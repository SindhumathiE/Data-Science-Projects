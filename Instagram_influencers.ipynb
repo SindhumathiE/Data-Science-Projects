{
  "nbformat": 4,
  "nbformat_minor": 0,
  "metadata": {
    "colab": {
      "provenance": [],
      "authorship_tag": "ABX9TyP2R08siY7rV3/Kf01N1p/x",
      "include_colab_link": true
    },
    "kernelspec": {
      "name": "python3",
      "display_name": "Python 3"
    },
    "language_info": {
      "name": "python"
    }
  },
  "cells": [
    {
      "cell_type": "markdown",
      "metadata": {
        "id": "view-in-github",
        "colab_type": "text"
      },
      "source": [
        "<a href=\"https://colab.research.google.com/github/SindhumathiE/Data-Science-Projects/blob/main/Instagram_influencers.ipynb\" target=\"_parent\"><img src=\"https://colab.research.google.com/assets/colab-badge.svg\" alt=\"Open In Colab\"/></a>"
      ]
    },
    {
      "cell_type": "markdown",
      "source": [
        "Importing the Libraries"
      ],
      "metadata": {
        "id": "Co_jlgpTGioj"
      }
    },
    {
      "cell_type": "code",
      "execution_count": null,
      "metadata": {
        "id": "OVApeBrNaZNT"
      },
      "outputs": [],
      "source": [
        "import numpy as np\n",
        "import pandas as pd\n",
        "\n",
        "# plotting\n",
        "import seaborn as sns\n",
        "import matplotlib.pyplot as plt\n"
      ]
    },
    {
      "cell_type": "markdown",
      "source": [
        "Importing the Dataset"
      ],
      "metadata": {
        "id": "dBYVy8lUG2Cj"
      }
    },
    {
      "cell_type": "code",
      "source": [
        "data = pd.read_csv(\"Influencer.csv\")"
      ],
      "metadata": {
        "id": "DFbhTcP9ajZv"
      },
      "execution_count": null,
      "outputs": []
    },
    {
      "cell_type": "code",
      "source": [
        "data.head()"
      ],
      "metadata": {
        "colab": {
          "base_uri": "https://localhost:8080/",
          "height": 268
        },
        "id": "IVA79SA2bFlu",
        "outputId": "286148bc-e941-49ee-a1ec-58e0d29223e4"
      },
      "execution_count": null,
      "outputs": [
        {
          "output_type": "execute_result",
          "data": {
            "text/plain": [
              "   Rank   Channel Info  Influence Score Followers Avg. Likes Posts  \\\n",
              "0     1    \\ncristiano               92    485.2m       8.7m  3.4k   \n",
              "1     2    kyliejenner               91    370.7m       8.2m  7.0k   \n",
              "2     3     \\nleomessi               90    363.9m       6.7m   915   \n",
              "3     4  \\nselenagomez               93    348.8m       6.1m  1.9k   \n",
              "4     5      \\ntherock               91    339.4m       1.8m  6.8k   \n",
              "\n",
              "   60-Day Eng Rate New Post Avg. Likes Total Likes Country Or Region  \n",
              "0            0.013                6.3m       29.1b             Spain  \n",
              "1            0.014                5.0m       57.4b     United States  \n",
              "2            0.010                3.5m        6.1b               NaN  \n",
              "3            0.005                1.7m       11.4b     United States  \n",
              "4            0.003              932.0k       12.6b     United States  "
            ],
            "text/html": [
              "\n",
              "  <div id=\"df-939da0ad-4602-45c7-8df2-bfe7c3972626\">\n",
              "    <div class=\"colab-df-container\">\n",
              "      <div>\n",
              "<style scoped>\n",
              "    .dataframe tbody tr th:only-of-type {\n",
              "        vertical-align: middle;\n",
              "    }\n",
              "\n",
              "    .dataframe tbody tr th {\n",
              "        vertical-align: top;\n",
              "    }\n",
              "\n",
              "    .dataframe thead th {\n",
              "        text-align: right;\n",
              "    }\n",
              "</style>\n",
              "<table border=\"1\" class=\"dataframe\">\n",
              "  <thead>\n",
              "    <tr style=\"text-align: right;\">\n",
              "      <th></th>\n",
              "      <th>Rank</th>\n",
              "      <th>Channel Info</th>\n",
              "      <th>Influence Score</th>\n",
              "      <th>Followers</th>\n",
              "      <th>Avg. Likes</th>\n",
              "      <th>Posts</th>\n",
              "      <th>60-Day Eng Rate</th>\n",
              "      <th>New Post Avg. Likes</th>\n",
              "      <th>Total Likes</th>\n",
              "      <th>Country Or Region</th>\n",
              "    </tr>\n",
              "  </thead>\n",
              "  <tbody>\n",
              "    <tr>\n",
              "      <th>0</th>\n",
              "      <td>1</td>\n",
              "      <td>\\ncristiano</td>\n",
              "      <td>92</td>\n",
              "      <td>485.2m</td>\n",
              "      <td>8.7m</td>\n",
              "      <td>3.4k</td>\n",
              "      <td>0.013</td>\n",
              "      <td>6.3m</td>\n",
              "      <td>29.1b</td>\n",
              "      <td>Spain</td>\n",
              "    </tr>\n",
              "    <tr>\n",
              "      <th>1</th>\n",
              "      <td>2</td>\n",
              "      <td>kyliejenner</td>\n",
              "      <td>91</td>\n",
              "      <td>370.7m</td>\n",
              "      <td>8.2m</td>\n",
              "      <td>7.0k</td>\n",
              "      <td>0.014</td>\n",
              "      <td>5.0m</td>\n",
              "      <td>57.4b</td>\n",
              "      <td>United States</td>\n",
              "    </tr>\n",
              "    <tr>\n",
              "      <th>2</th>\n",
              "      <td>3</td>\n",
              "      <td>\\nleomessi</td>\n",
              "      <td>90</td>\n",
              "      <td>363.9m</td>\n",
              "      <td>6.7m</td>\n",
              "      <td>915</td>\n",
              "      <td>0.010</td>\n",
              "      <td>3.5m</td>\n",
              "      <td>6.1b</td>\n",
              "      <td>NaN</td>\n",
              "    </tr>\n",
              "    <tr>\n",
              "      <th>3</th>\n",
              "      <td>4</td>\n",
              "      <td>\\nselenagomez</td>\n",
              "      <td>93</td>\n",
              "      <td>348.8m</td>\n",
              "      <td>6.1m</td>\n",
              "      <td>1.9k</td>\n",
              "      <td>0.005</td>\n",
              "      <td>1.7m</td>\n",
              "      <td>11.4b</td>\n",
              "      <td>United States</td>\n",
              "    </tr>\n",
              "    <tr>\n",
              "      <th>4</th>\n",
              "      <td>5</td>\n",
              "      <td>\\ntherock</td>\n",
              "      <td>91</td>\n",
              "      <td>339.4m</td>\n",
              "      <td>1.8m</td>\n",
              "      <td>6.8k</td>\n",
              "      <td>0.003</td>\n",
              "      <td>932.0k</td>\n",
              "      <td>12.6b</td>\n",
              "      <td>United States</td>\n",
              "    </tr>\n",
              "  </tbody>\n",
              "</table>\n",
              "</div>\n",
              "      <button class=\"colab-df-convert\" onclick=\"convertToInteractive('df-939da0ad-4602-45c7-8df2-bfe7c3972626')\"\n",
              "              title=\"Convert this dataframe to an interactive table.\"\n",
              "              style=\"display:none;\">\n",
              "        \n",
              "  <svg xmlns=\"http://www.w3.org/2000/svg\" height=\"24px\"viewBox=\"0 0 24 24\"\n",
              "       width=\"24px\">\n",
              "    <path d=\"M0 0h24v24H0V0z\" fill=\"none\"/>\n",
              "    <path d=\"M18.56 5.44l.94 2.06.94-2.06 2.06-.94-2.06-.94-.94-2.06-.94 2.06-2.06.94zm-11 1L8.5 8.5l.94-2.06 2.06-.94-2.06-.94L8.5 2.5l-.94 2.06-2.06.94zm10 10l.94 2.06.94-2.06 2.06-.94-2.06-.94-.94-2.06-.94 2.06-2.06.94z\"/><path d=\"M17.41 7.96l-1.37-1.37c-.4-.4-.92-.59-1.43-.59-.52 0-1.04.2-1.43.59L10.3 9.45l-7.72 7.72c-.78.78-.78 2.05 0 2.83L4 21.41c.39.39.9.59 1.41.59.51 0 1.02-.2 1.41-.59l7.78-7.78 2.81-2.81c.8-.78.8-2.07 0-2.86zM5.41 20L4 18.59l7.72-7.72 1.47 1.35L5.41 20z\"/>\n",
              "  </svg>\n",
              "      </button>\n",
              "      \n",
              "  <style>\n",
              "    .colab-df-container {\n",
              "      display:flex;\n",
              "      flex-wrap:wrap;\n",
              "      gap: 12px;\n",
              "    }\n",
              "\n",
              "    .colab-df-convert {\n",
              "      background-color: #E8F0FE;\n",
              "      border: none;\n",
              "      border-radius: 50%;\n",
              "      cursor: pointer;\n",
              "      display: none;\n",
              "      fill: #1967D2;\n",
              "      height: 32px;\n",
              "      padding: 0 0 0 0;\n",
              "      width: 32px;\n",
              "    }\n",
              "\n",
              "    .colab-df-convert:hover {\n",
              "      background-color: #E2EBFA;\n",
              "      box-shadow: 0px 1px 2px rgba(60, 64, 67, 0.3), 0px 1px 3px 1px rgba(60, 64, 67, 0.15);\n",
              "      fill: #174EA6;\n",
              "    }\n",
              "\n",
              "    [theme=dark] .colab-df-convert {\n",
              "      background-color: #3B4455;\n",
              "      fill: #D2E3FC;\n",
              "    }\n",
              "\n",
              "    [theme=dark] .colab-df-convert:hover {\n",
              "      background-color: #434B5C;\n",
              "      box-shadow: 0px 1px 3px 1px rgba(0, 0, 0, 0.15);\n",
              "      filter: drop-shadow(0px 1px 2px rgba(0, 0, 0, 0.3));\n",
              "      fill: #FFFFFF;\n",
              "    }\n",
              "  </style>\n",
              "\n",
              "      <script>\n",
              "        const buttonEl =\n",
              "          document.querySelector('#df-939da0ad-4602-45c7-8df2-bfe7c3972626 button.colab-df-convert');\n",
              "        buttonEl.style.display =\n",
              "          google.colab.kernel.accessAllowed ? 'block' : 'none';\n",
              "\n",
              "        async function convertToInteractive(key) {\n",
              "          const element = document.querySelector('#df-939da0ad-4602-45c7-8df2-bfe7c3972626');\n",
              "          const dataTable =\n",
              "            await google.colab.kernel.invokeFunction('convertToInteractive',\n",
              "                                                     [key], {});\n",
              "          if (!dataTable) return;\n",
              "\n",
              "          const docLinkHtml = 'Like what you see? Visit the ' +\n",
              "            '<a target=\"_blank\" href=https://colab.research.google.com/notebooks/data_table.ipynb>data table notebook</a>'\n",
              "            + ' to learn more about interactive tables.';\n",
              "          element.innerHTML = '';\n",
              "          dataTable['output_type'] = 'display_data';\n",
              "          await google.colab.output.renderOutput(dataTable, element);\n",
              "          const docLink = document.createElement('div');\n",
              "          docLink.innerHTML = docLinkHtml;\n",
              "          element.appendChild(docLink);\n",
              "        }\n",
              "      </script>\n",
              "    </div>\n",
              "  </div>\n",
              "  "
            ]
          },
          "metadata": {},
          "execution_count": 138
        }
      ]
    },
    {
      "cell_type": "code",
      "source": [
        "data.shape"
      ],
      "metadata": {
        "colab": {
          "base_uri": "https://localhost:8080/"
        },
        "id": "cpBFppqucxfZ",
        "outputId": "f1a15d1b-ca21-41d2-b0b9-4fcb99efb135"
      },
      "execution_count": null,
      "outputs": [
        {
          "output_type": "execute_result",
          "data": {
            "text/plain": [
              "(200, 10)"
            ]
          },
          "metadata": {},
          "execution_count": 139
        }
      ]
    },
    {
      "cell_type": "markdown",
      "source": [
        "Data Cleaning"
      ],
      "metadata": {
        "id": "6Ks_Uif8OFl-"
      }
    },
    {
      "cell_type": "code",
      "source": [
        "data.info()"
      ],
      "metadata": {
        "colab": {
          "base_uri": "https://localhost:8080/"
        },
        "id": "OFV8rp1xdMAq",
        "outputId": "b9507b0e-044a-4c6e-f8a6-1686244f3470"
      },
      "execution_count": null,
      "outputs": [
        {
          "output_type": "stream",
          "name": "stdout",
          "text": [
            "<class 'pandas.core.frame.DataFrame'>\n",
            "RangeIndex: 200 entries, 0 to 199\n",
            "Data columns (total 10 columns):\n",
            " #   Column               Non-Null Count  Dtype  \n",
            "---  ------               --------------  -----  \n",
            " 0   Rank                 200 non-null    int64  \n",
            " 1   Channel Info         200 non-null    object \n",
            " 2   Influence Score      200 non-null    int64  \n",
            " 3   Followers            200 non-null    object \n",
            " 4   Avg. Likes           200 non-null    object \n",
            " 5   Posts                200 non-null    object \n",
            " 6   60-Day Eng Rate      200 non-null    float64\n",
            " 7   New Post Avg. Likes  200 non-null    object \n",
            " 8   Total Likes          200 non-null    object \n",
            " 9   Country Or Region    137 non-null    object \n",
            "dtypes: float64(1), int64(2), object(7)\n",
            "memory usage: 15.8+ KB\n"
          ]
        }
      ]
    },
    {
      "cell_type": "code",
      "source": [
        "data.columns"
      ],
      "metadata": {
        "colab": {
          "base_uri": "https://localhost:8080/"
        },
        "id": "UvUgPwwcPNKw",
        "outputId": "1a68807e-108a-4a75-ad30-bb86c36968d1"
      },
      "execution_count": null,
      "outputs": [
        {
          "output_type": "execute_result",
          "data": {
            "text/plain": [
              "Index(['Rank', 'Channel Info', 'Influence Score', 'Followers', 'Avg. Likes',\n",
              "       'Posts', '60-Day Eng Rate', 'New Post Avg. Likes', 'Total Likes',\n",
              "       'Country Or Region'],\n",
              "      dtype='object')"
            ]
          },
          "metadata": {},
          "execution_count": 141
        }
      ]
    },
    {
      "cell_type": "code",
      "source": [
        "data.rename(columns={\"Rank\": \"rank\"},inplace=True)\n",
        "data.rename(columns={\"Channel Info\": \"channel_info\"},inplace=True)\n",
        "data.rename(columns={\"Influence Score\": \"influence_score\"},inplace=True)\n",
        "data.rename(columns={\"Avg. Likes\": \"avg_likes\"},inplace=True)\n",
        "data.rename(columns={\"60-Day Eng Rate\": \"60dayeng_rate\"},inplace=True)\n",
        "data.rename(columns={\"60-Day Eng Rate\": \"60dayeng_rate\"},inplace=True)\n",
        "data.rename(columns={\"New Post Avg. Likes\": \"newpostavg_like\"},inplace=True)\n",
        "data.rename(columns={\"Total Likes\": \"total_likes\"},inplace=True)\n",
        "data.rename(columns={\"Country Or Region\": \"Country\"},inplace=True)"
      ],
      "metadata": {
        "id": "kQ4xmhBzPE_P"
      },
      "execution_count": null,
      "outputs": []
    },
    {
      "cell_type": "code",
      "source": [
        "data.isnull().sum()"
      ],
      "metadata": {
        "colab": {
          "base_uri": "https://localhost:8080/"
        },
        "id": "8uBBxmEUWv8v",
        "outputId": "63685477-d7a8-44a6-e7dd-73f596d8463f"
      },
      "execution_count": null,
      "outputs": [
        {
          "output_type": "execute_result",
          "data": {
            "text/plain": [
              "rank                0\n",
              "channel_info        0\n",
              "influence_score     0\n",
              "Followers           0\n",
              "avg_likes           0\n",
              "Posts               0\n",
              "60dayeng_rate       0\n",
              "newpostavg_like     0\n",
              "total_likes         0\n",
              "Country            63\n",
              "dtype: int64"
            ]
          },
          "metadata": {},
          "execution_count": 143
        }
      ]
    },
    {
      "cell_type": "code",
      "source": [
        "data[\"Country\"].fillna(\"Other\",inplace=True)"
      ],
      "metadata": {
        "id": "WnJ7H22QdbZG"
      },
      "execution_count": null,
      "outputs": []
    },
    {
      "cell_type": "code",
      "source": [
        "data.isnull().sum()"
      ],
      "metadata": {
        "colab": {
          "base_uri": "https://localhost:8080/"
        },
        "id": "e3ucgCzSdlTB",
        "outputId": "8e133fe0-43ec-40dd-9395-74c6238659b7"
      },
      "execution_count": null,
      "outputs": [
        {
          "output_type": "execute_result",
          "data": {
            "text/plain": [
              "rank               0\n",
              "channel_info       0\n",
              "influence_score    0\n",
              "Followers          0\n",
              "avg_likes          0\n",
              "Posts              0\n",
              "60dayeng_rate      0\n",
              "newpostavg_like    0\n",
              "total_likes        0\n",
              "Country            0\n",
              "dtype: int64"
            ]
          },
          "metadata": {},
          "execution_count": 145
        }
      ]
    },
    {
      "cell_type": "code",
      "source": [
        "data.describe()"
      ],
      "metadata": {
        "colab": {
          "base_uri": "https://localhost:8080/",
          "height": 300
        },
        "id": "rx8HN2I9N0Ur",
        "outputId": "a678153c-297e-48ca-9f71-0a5df068c8e2"
      },
      "execution_count": null,
      "outputs": [
        {
          "output_type": "execute_result",
          "data": {
            "text/plain": [
              "             rank  influence_score  60dayeng_rate\n",
              "count  200.000000       200.000000     200.000000\n",
              "mean   100.500000        81.850000       0.019160\n",
              "std     57.879185         8.875323       0.032577\n",
              "min      1.000000        22.000000       0.000000\n",
              "25%     50.750000        80.000000       0.004000\n",
              "50%    100.500000        84.000000       0.009500\n",
              "75%    150.250000        86.000000       0.017250\n",
              "max    200.000000        93.000000       0.250000"
            ],
            "text/html": [
              "\n",
              "  <div id=\"df-427058c9-ac73-4200-9723-462c3546522f\">\n",
              "    <div class=\"colab-df-container\">\n",
              "      <div>\n",
              "<style scoped>\n",
              "    .dataframe tbody tr th:only-of-type {\n",
              "        vertical-align: middle;\n",
              "    }\n",
              "\n",
              "    .dataframe tbody tr th {\n",
              "        vertical-align: top;\n",
              "    }\n",
              "\n",
              "    .dataframe thead th {\n",
              "        text-align: right;\n",
              "    }\n",
              "</style>\n",
              "<table border=\"1\" class=\"dataframe\">\n",
              "  <thead>\n",
              "    <tr style=\"text-align: right;\">\n",
              "      <th></th>\n",
              "      <th>rank</th>\n",
              "      <th>influence_score</th>\n",
              "      <th>60dayeng_rate</th>\n",
              "    </tr>\n",
              "  </thead>\n",
              "  <tbody>\n",
              "    <tr>\n",
              "      <th>count</th>\n",
              "      <td>200.000000</td>\n",
              "      <td>200.000000</td>\n",
              "      <td>200.000000</td>\n",
              "    </tr>\n",
              "    <tr>\n",
              "      <th>mean</th>\n",
              "      <td>100.500000</td>\n",
              "      <td>81.850000</td>\n",
              "      <td>0.019160</td>\n",
              "    </tr>\n",
              "    <tr>\n",
              "      <th>std</th>\n",
              "      <td>57.879185</td>\n",
              "      <td>8.875323</td>\n",
              "      <td>0.032577</td>\n",
              "    </tr>\n",
              "    <tr>\n",
              "      <th>min</th>\n",
              "      <td>1.000000</td>\n",
              "      <td>22.000000</td>\n",
              "      <td>0.000000</td>\n",
              "    </tr>\n",
              "    <tr>\n",
              "      <th>25%</th>\n",
              "      <td>50.750000</td>\n",
              "      <td>80.000000</td>\n",
              "      <td>0.004000</td>\n",
              "    </tr>\n",
              "    <tr>\n",
              "      <th>50%</th>\n",
              "      <td>100.500000</td>\n",
              "      <td>84.000000</td>\n",
              "      <td>0.009500</td>\n",
              "    </tr>\n",
              "    <tr>\n",
              "      <th>75%</th>\n",
              "      <td>150.250000</td>\n",
              "      <td>86.000000</td>\n",
              "      <td>0.017250</td>\n",
              "    </tr>\n",
              "    <tr>\n",
              "      <th>max</th>\n",
              "      <td>200.000000</td>\n",
              "      <td>93.000000</td>\n",
              "      <td>0.250000</td>\n",
              "    </tr>\n",
              "  </tbody>\n",
              "</table>\n",
              "</div>\n",
              "      <button class=\"colab-df-convert\" onclick=\"convertToInteractive('df-427058c9-ac73-4200-9723-462c3546522f')\"\n",
              "              title=\"Convert this dataframe to an interactive table.\"\n",
              "              style=\"display:none;\">\n",
              "        \n",
              "  <svg xmlns=\"http://www.w3.org/2000/svg\" height=\"24px\"viewBox=\"0 0 24 24\"\n",
              "       width=\"24px\">\n",
              "    <path d=\"M0 0h24v24H0V0z\" fill=\"none\"/>\n",
              "    <path d=\"M18.56 5.44l.94 2.06.94-2.06 2.06-.94-2.06-.94-.94-2.06-.94 2.06-2.06.94zm-11 1L8.5 8.5l.94-2.06 2.06-.94-2.06-.94L8.5 2.5l-.94 2.06-2.06.94zm10 10l.94 2.06.94-2.06 2.06-.94-2.06-.94-.94-2.06-.94 2.06-2.06.94z\"/><path d=\"M17.41 7.96l-1.37-1.37c-.4-.4-.92-.59-1.43-.59-.52 0-1.04.2-1.43.59L10.3 9.45l-7.72 7.72c-.78.78-.78 2.05 0 2.83L4 21.41c.39.39.9.59 1.41.59.51 0 1.02-.2 1.41-.59l7.78-7.78 2.81-2.81c.8-.78.8-2.07 0-2.86zM5.41 20L4 18.59l7.72-7.72 1.47 1.35L5.41 20z\"/>\n",
              "  </svg>\n",
              "      </button>\n",
              "      \n",
              "  <style>\n",
              "    .colab-df-container {\n",
              "      display:flex;\n",
              "      flex-wrap:wrap;\n",
              "      gap: 12px;\n",
              "    }\n",
              "\n",
              "    .colab-df-convert {\n",
              "      background-color: #E8F0FE;\n",
              "      border: none;\n",
              "      border-radius: 50%;\n",
              "      cursor: pointer;\n",
              "      display: none;\n",
              "      fill: #1967D2;\n",
              "      height: 32px;\n",
              "      padding: 0 0 0 0;\n",
              "      width: 32px;\n",
              "    }\n",
              "\n",
              "    .colab-df-convert:hover {\n",
              "      background-color: #E2EBFA;\n",
              "      box-shadow: 0px 1px 2px rgba(60, 64, 67, 0.3), 0px 1px 3px 1px rgba(60, 64, 67, 0.15);\n",
              "      fill: #174EA6;\n",
              "    }\n",
              "\n",
              "    [theme=dark] .colab-df-convert {\n",
              "      background-color: #3B4455;\n",
              "      fill: #D2E3FC;\n",
              "    }\n",
              "\n",
              "    [theme=dark] .colab-df-convert:hover {\n",
              "      background-color: #434B5C;\n",
              "      box-shadow: 0px 1px 3px 1px rgba(0, 0, 0, 0.15);\n",
              "      filter: drop-shadow(0px 1px 2px rgba(0, 0, 0, 0.3));\n",
              "      fill: #FFFFFF;\n",
              "    }\n",
              "  </style>\n",
              "\n",
              "      <script>\n",
              "        const buttonEl =\n",
              "          document.querySelector('#df-427058c9-ac73-4200-9723-462c3546522f button.colab-df-convert');\n",
              "        buttonEl.style.display =\n",
              "          google.colab.kernel.accessAllowed ? 'block' : 'none';\n",
              "\n",
              "        async function convertToInteractive(key) {\n",
              "          const element = document.querySelector('#df-427058c9-ac73-4200-9723-462c3546522f');\n",
              "          const dataTable =\n",
              "            await google.colab.kernel.invokeFunction('convertToInteractive',\n",
              "                                                     [key], {});\n",
              "          if (!dataTable) return;\n",
              "\n",
              "          const docLinkHtml = 'Like what you see? Visit the ' +\n",
              "            '<a target=\"_blank\" href=https://colab.research.google.com/notebooks/data_table.ipynb>data table notebook</a>'\n",
              "            + ' to learn more about interactive tables.';\n",
              "          element.innerHTML = '';\n",
              "          dataTable['output_type'] = 'display_data';\n",
              "          await google.colab.output.renderOutput(dataTable, element);\n",
              "          const docLink = document.createElement('div');\n",
              "          docLink.innerHTML = docLinkHtml;\n",
              "          element.appendChild(docLink);\n",
              "        }\n",
              "      </script>\n",
              "    </div>\n",
              "  </div>\n",
              "  "
            ]
          },
          "metadata": {},
          "execution_count": 146
        }
      ]
    },
    {
      "cell_type": "markdown",
      "source": [
        "EDA - Exploratory data Analysis"
      ],
      "metadata": {
        "id": "bmBI2lo0HP76"
      }
    },
    {
      "cell_type": "code",
      "source": [
        "data[\"rank\"].unique()"
      ],
      "metadata": {
        "colab": {
          "base_uri": "https://localhost:8080/"
        },
        "id": "r97_670NdoJe",
        "outputId": "95e50dbb-f610-468f-ee62-63444c1d3f0e"
      },
      "execution_count": null,
      "outputs": [
        {
          "output_type": "execute_result",
          "data": {
            "text/plain": [
              "array([  1,   2,   3,   4,   5,   6,   7,   8,   9,  10,  11,  12,  13,\n",
              "        14,  15,  16,  17,  18,  19,  20,  21,  22,  23,  24,  25,  26,\n",
              "        27,  28,  29,  30,  31,  32,  33,  34,  35,  36,  37,  38,  39,\n",
              "        40,  41,  42,  43,  44,  45,  46,  47,  48,  49,  50,  51,  52,\n",
              "        53,  54,  55,  56,  57,  58,  59,  60,  61,  62,  63,  64,  65,\n",
              "        66,  67,  68,  69,  70,  71,  72,  73,  74,  75,  76,  77,  78,\n",
              "        79,  80,  81,  82,  83,  84,  85,  86,  87,  88,  89,  90,  91,\n",
              "        92,  93,  94,  95,  96,  97,  98,  99, 100, 101, 102, 103, 104,\n",
              "       105, 106, 107, 108, 109, 110, 111, 112, 113, 114, 115, 116, 117,\n",
              "       118, 119, 120, 121, 122, 123, 124, 125, 126, 127, 128, 129, 130,\n",
              "       131, 132, 133, 134, 135, 136, 137, 138, 139, 140, 141, 142, 143,\n",
              "       144, 145, 146, 147, 148, 149, 150, 151, 152, 153, 154, 155, 156,\n",
              "       157, 158, 159, 160, 161, 162, 163, 164, 165, 166, 167, 168, 169,\n",
              "       170, 171, 172, 173, 174, 175, 176, 177, 178, 179, 180, 181, 182,\n",
              "       183, 184, 185, 186, 187, 188, 189, 190, 191, 192, 193, 194, 195,\n",
              "       196, 197, 198, 199, 200])"
            ]
          },
          "metadata": {},
          "execution_count": 147
        }
      ]
    },
    {
      "cell_type": "code",
      "source": [
        "data[\"channel_info\"]=data[\"channel_info\"].astype(\"str\")\n",
        "data[\"channel_info\"]=data[\"channel_info\"].apply(lambda x: x.strip(\"\\n\"))\n",
        "data[\"channel_info\"]=data[\"channel_info\"].apply(lambda x: x.capitalize())\n",
        "data.head()"
      ],
      "metadata": {
        "colab": {
          "base_uri": "https://localhost:8080/",
          "height": 322
        },
        "id": "-4fsiqXNd0gk",
        "outputId": "30413ed6-05b7-4602-e842-e6714d982a7e"
      },
      "execution_count": null,
      "outputs": [
        {
          "output_type": "execute_result",
          "data": {
            "text/plain": [
              "   rank channel_info  influence_score Followers avg_likes Posts  \\\n",
              "0     1    Cristiano               92    485.2m      8.7m  3.4k   \n",
              "1     2  Kyliejenner               91    370.7m      8.2m  7.0k   \n",
              "2     3     Leomessi               90    363.9m      6.7m   915   \n",
              "3     4  Selenagomez               93    348.8m      6.1m  1.9k   \n",
              "4     5      Therock               91    339.4m      1.8m  6.8k   \n",
              "\n",
              "   60dayeng_rate newpostavg_like total_likes        Country  \n",
              "0          0.013            6.3m       29.1b          Spain  \n",
              "1          0.014            5.0m       57.4b  United States  \n",
              "2          0.010            3.5m        6.1b          Other  \n",
              "3          0.005            1.7m       11.4b  United States  \n",
              "4          0.003          932.0k       12.6b  United States  "
            ],
            "text/html": [
              "\n",
              "  <div id=\"df-dee91ef5-b4d7-4280-9cbc-3eb39f92121a\">\n",
              "    <div class=\"colab-df-container\">\n",
              "      <div>\n",
              "<style scoped>\n",
              "    .dataframe tbody tr th:only-of-type {\n",
              "        vertical-align: middle;\n",
              "    }\n",
              "\n",
              "    .dataframe tbody tr th {\n",
              "        vertical-align: top;\n",
              "    }\n",
              "\n",
              "    .dataframe thead th {\n",
              "        text-align: right;\n",
              "    }\n",
              "</style>\n",
              "<table border=\"1\" class=\"dataframe\">\n",
              "  <thead>\n",
              "    <tr style=\"text-align: right;\">\n",
              "      <th></th>\n",
              "      <th>rank</th>\n",
              "      <th>channel_info</th>\n",
              "      <th>influence_score</th>\n",
              "      <th>Followers</th>\n",
              "      <th>avg_likes</th>\n",
              "      <th>Posts</th>\n",
              "      <th>60dayeng_rate</th>\n",
              "      <th>newpostavg_like</th>\n",
              "      <th>total_likes</th>\n",
              "      <th>Country</th>\n",
              "    </tr>\n",
              "  </thead>\n",
              "  <tbody>\n",
              "    <tr>\n",
              "      <th>0</th>\n",
              "      <td>1</td>\n",
              "      <td>Cristiano</td>\n",
              "      <td>92</td>\n",
              "      <td>485.2m</td>\n",
              "      <td>8.7m</td>\n",
              "      <td>3.4k</td>\n",
              "      <td>0.013</td>\n",
              "      <td>6.3m</td>\n",
              "      <td>29.1b</td>\n",
              "      <td>Spain</td>\n",
              "    </tr>\n",
              "    <tr>\n",
              "      <th>1</th>\n",
              "      <td>2</td>\n",
              "      <td>Kyliejenner</td>\n",
              "      <td>91</td>\n",
              "      <td>370.7m</td>\n",
              "      <td>8.2m</td>\n",
              "      <td>7.0k</td>\n",
              "      <td>0.014</td>\n",
              "      <td>5.0m</td>\n",
              "      <td>57.4b</td>\n",
              "      <td>United States</td>\n",
              "    </tr>\n",
              "    <tr>\n",
              "      <th>2</th>\n",
              "      <td>3</td>\n",
              "      <td>Leomessi</td>\n",
              "      <td>90</td>\n",
              "      <td>363.9m</td>\n",
              "      <td>6.7m</td>\n",
              "      <td>915</td>\n",
              "      <td>0.010</td>\n",
              "      <td>3.5m</td>\n",
              "      <td>6.1b</td>\n",
              "      <td>Other</td>\n",
              "    </tr>\n",
              "    <tr>\n",
              "      <th>3</th>\n",
              "      <td>4</td>\n",
              "      <td>Selenagomez</td>\n",
              "      <td>93</td>\n",
              "      <td>348.8m</td>\n",
              "      <td>6.1m</td>\n",
              "      <td>1.9k</td>\n",
              "      <td>0.005</td>\n",
              "      <td>1.7m</td>\n",
              "      <td>11.4b</td>\n",
              "      <td>United States</td>\n",
              "    </tr>\n",
              "    <tr>\n",
              "      <th>4</th>\n",
              "      <td>5</td>\n",
              "      <td>Therock</td>\n",
              "      <td>91</td>\n",
              "      <td>339.4m</td>\n",
              "      <td>1.8m</td>\n",
              "      <td>6.8k</td>\n",
              "      <td>0.003</td>\n",
              "      <td>932.0k</td>\n",
              "      <td>12.6b</td>\n",
              "      <td>United States</td>\n",
              "    </tr>\n",
              "  </tbody>\n",
              "</table>\n",
              "</div>\n",
              "      <button class=\"colab-df-convert\" onclick=\"convertToInteractive('df-dee91ef5-b4d7-4280-9cbc-3eb39f92121a')\"\n",
              "              title=\"Convert this dataframe to an interactive table.\"\n",
              "              style=\"display:none;\">\n",
              "        \n",
              "  <svg xmlns=\"http://www.w3.org/2000/svg\" height=\"24px\"viewBox=\"0 0 24 24\"\n",
              "       width=\"24px\">\n",
              "    <path d=\"M0 0h24v24H0V0z\" fill=\"none\"/>\n",
              "    <path d=\"M18.56 5.44l.94 2.06.94-2.06 2.06-.94-2.06-.94-.94-2.06-.94 2.06-2.06.94zm-11 1L8.5 8.5l.94-2.06 2.06-.94-2.06-.94L8.5 2.5l-.94 2.06-2.06.94zm10 10l.94 2.06.94-2.06 2.06-.94-2.06-.94-.94-2.06-.94 2.06-2.06.94z\"/><path d=\"M17.41 7.96l-1.37-1.37c-.4-.4-.92-.59-1.43-.59-.52 0-1.04.2-1.43.59L10.3 9.45l-7.72 7.72c-.78.78-.78 2.05 0 2.83L4 21.41c.39.39.9.59 1.41.59.51 0 1.02-.2 1.41-.59l7.78-7.78 2.81-2.81c.8-.78.8-2.07 0-2.86zM5.41 20L4 18.59l7.72-7.72 1.47 1.35L5.41 20z\"/>\n",
              "  </svg>\n",
              "      </button>\n",
              "      \n",
              "  <style>\n",
              "    .colab-df-container {\n",
              "      display:flex;\n",
              "      flex-wrap:wrap;\n",
              "      gap: 12px;\n",
              "    }\n",
              "\n",
              "    .colab-df-convert {\n",
              "      background-color: #E8F0FE;\n",
              "      border: none;\n",
              "      border-radius: 50%;\n",
              "      cursor: pointer;\n",
              "      display: none;\n",
              "      fill: #1967D2;\n",
              "      height: 32px;\n",
              "      padding: 0 0 0 0;\n",
              "      width: 32px;\n",
              "    }\n",
              "\n",
              "    .colab-df-convert:hover {\n",
              "      background-color: #E2EBFA;\n",
              "      box-shadow: 0px 1px 2px rgba(60, 64, 67, 0.3), 0px 1px 3px 1px rgba(60, 64, 67, 0.15);\n",
              "      fill: #174EA6;\n",
              "    }\n",
              "\n",
              "    [theme=dark] .colab-df-convert {\n",
              "      background-color: #3B4455;\n",
              "      fill: #D2E3FC;\n",
              "    }\n",
              "\n",
              "    [theme=dark] .colab-df-convert:hover {\n",
              "      background-color: #434B5C;\n",
              "      box-shadow: 0px 1px 3px 1px rgba(0, 0, 0, 0.15);\n",
              "      filter: drop-shadow(0px 1px 2px rgba(0, 0, 0, 0.3));\n",
              "      fill: #FFFFFF;\n",
              "    }\n",
              "  </style>\n",
              "\n",
              "      <script>\n",
              "        const buttonEl =\n",
              "          document.querySelector('#df-dee91ef5-b4d7-4280-9cbc-3eb39f92121a button.colab-df-convert');\n",
              "        buttonEl.style.display =\n",
              "          google.colab.kernel.accessAllowed ? 'block' : 'none';\n",
              "\n",
              "        async function convertToInteractive(key) {\n",
              "          const element = document.querySelector('#df-dee91ef5-b4d7-4280-9cbc-3eb39f92121a');\n",
              "          const dataTable =\n",
              "            await google.colab.kernel.invokeFunction('convertToInteractive',\n",
              "                                                     [key], {});\n",
              "          if (!dataTable) return;\n",
              "\n",
              "          const docLinkHtml = 'Like what you see? Visit the ' +\n",
              "            '<a target=\"_blank\" href=https://colab.research.google.com/notebooks/data_table.ipynb>data table notebook</a>'\n",
              "            + ' to learn more about interactive tables.';\n",
              "          element.innerHTML = '';\n",
              "          dataTable['output_type'] = 'display_data';\n",
              "          await google.colab.output.renderOutput(dataTable, element);\n",
              "          const docLink = document.createElement('div');\n",
              "          docLink.innerHTML = docLinkHtml;\n",
              "          element.appendChild(docLink);\n",
              "        }\n",
              "      </script>\n",
              "    </div>\n",
              "  </div>\n",
              "  "
            ]
          },
          "metadata": {},
          "execution_count": 148
        }
      ]
    },
    {
      "cell_type": "code",
      "source": [
        "insta_influencers=data.copy()"
      ],
      "metadata": {
        "id": "jKBw9f0ueRAi"
      },
      "execution_count": null,
      "outputs": []
    },
    {
      "cell_type": "code",
      "source": [
        "millon_follower=data[data[\"Followers\"].apply(lambda x: x[-1]==\"m\")]\n",
        "k_follower=data[data[\"Followers\"].apply(lambda x: x[-1]==\"k\")]\n",
        "num_follower=data[data[\"Followers\"].apply(lambda x: x[-1] in \"0123456789\")]"
      ],
      "metadata": {
        "id": "ros0O9l0eiGi"
      },
      "execution_count": null,
      "outputs": []
    },
    {
      "cell_type": "code",
      "source": [
        "def billon(x):\n",
        "    a=x.strip(\"b\")\n",
        "    b=pd.to_numeric(a)\n",
        "    b=b*1000000000\n",
        "    return b\n",
        "\n",
        "def millons(x):\n",
        "    a=x.strip(\"m\")\n",
        "    b=pd.to_numeric(a)\n",
        "    b=b*1000000\n",
        "    return b\n",
        "\n",
        "def k(x):\n",
        "    a=x.strip(\"k\")\n",
        "    b=pd.to_numeric(a)\n",
        "    b=b*1000\n",
        "    return b\n",
        "\n"
      ],
      "metadata": {
        "id": "Ibxxun5sfLES"
      },
      "execution_count": null,
      "outputs": []
    },
    {
      "cell_type": "code",
      "source": [
        "millon_follower[\"Followers\"]=millon_follower[\"Followers\"].apply(millons)\n",
        "k_follower[\"Followers\"]=k_follower[\"Followers\"].apply(k)\n",
        "data= pd.concat([millon_follower,k_follower,num_follower],axis=0)\n",
        "data.head()"
      ],
      "metadata": {
        "colab": {
          "base_uri": "https://localhost:8080/",
          "height": 322
        },
        "id": "nWKX8PZxfdAc",
        "outputId": "66c8239e-bd6f-4671-d8b6-baf10dc0baa4"
      },
      "execution_count": null,
      "outputs": [
        {
          "output_type": "execute_result",
          "data": {
            "text/plain": [
              "   rank channel_info  influence_score    Followers avg_likes Posts  \\\n",
              "0     1    Cristiano               92  485200000.0      8.7m  3.4k   \n",
              "1     2  Kyliejenner               91  370700000.0      8.2m  7.0k   \n",
              "2     3     Leomessi               90  363900000.0      6.7m   915   \n",
              "3     4  Selenagomez               93  348800000.0      6.1m  1.9k   \n",
              "4     5      Therock               91  339400000.0      1.8m  6.8k   \n",
              "\n",
              "   60dayeng_rate newpostavg_like total_likes        Country  \n",
              "0          0.013            6.3m       29.1b          Spain  \n",
              "1          0.014            5.0m       57.4b  United States  \n",
              "2          0.010            3.5m        6.1b          Other  \n",
              "3          0.005            1.7m       11.4b  United States  \n",
              "4          0.003          932.0k       12.6b  United States  "
            ],
            "text/html": [
              "\n",
              "  <div id=\"df-926015b3-84f9-47ee-a68f-513ab0e4ed94\">\n",
              "    <div class=\"colab-df-container\">\n",
              "      <div>\n",
              "<style scoped>\n",
              "    .dataframe tbody tr th:only-of-type {\n",
              "        vertical-align: middle;\n",
              "    }\n",
              "\n",
              "    .dataframe tbody tr th {\n",
              "        vertical-align: top;\n",
              "    }\n",
              "\n",
              "    .dataframe thead th {\n",
              "        text-align: right;\n",
              "    }\n",
              "</style>\n",
              "<table border=\"1\" class=\"dataframe\">\n",
              "  <thead>\n",
              "    <tr style=\"text-align: right;\">\n",
              "      <th></th>\n",
              "      <th>rank</th>\n",
              "      <th>channel_info</th>\n",
              "      <th>influence_score</th>\n",
              "      <th>Followers</th>\n",
              "      <th>avg_likes</th>\n",
              "      <th>Posts</th>\n",
              "      <th>60dayeng_rate</th>\n",
              "      <th>newpostavg_like</th>\n",
              "      <th>total_likes</th>\n",
              "      <th>Country</th>\n",
              "    </tr>\n",
              "  </thead>\n",
              "  <tbody>\n",
              "    <tr>\n",
              "      <th>0</th>\n",
              "      <td>1</td>\n",
              "      <td>Cristiano</td>\n",
              "      <td>92</td>\n",
              "      <td>485200000.0</td>\n",
              "      <td>8.7m</td>\n",
              "      <td>3.4k</td>\n",
              "      <td>0.013</td>\n",
              "      <td>6.3m</td>\n",
              "      <td>29.1b</td>\n",
              "      <td>Spain</td>\n",
              "    </tr>\n",
              "    <tr>\n",
              "      <th>1</th>\n",
              "      <td>2</td>\n",
              "      <td>Kyliejenner</td>\n",
              "      <td>91</td>\n",
              "      <td>370700000.0</td>\n",
              "      <td>8.2m</td>\n",
              "      <td>7.0k</td>\n",
              "      <td>0.014</td>\n",
              "      <td>5.0m</td>\n",
              "      <td>57.4b</td>\n",
              "      <td>United States</td>\n",
              "    </tr>\n",
              "    <tr>\n",
              "      <th>2</th>\n",
              "      <td>3</td>\n",
              "      <td>Leomessi</td>\n",
              "      <td>90</td>\n",
              "      <td>363900000.0</td>\n",
              "      <td>6.7m</td>\n",
              "      <td>915</td>\n",
              "      <td>0.010</td>\n",
              "      <td>3.5m</td>\n",
              "      <td>6.1b</td>\n",
              "      <td>Other</td>\n",
              "    </tr>\n",
              "    <tr>\n",
              "      <th>3</th>\n",
              "      <td>4</td>\n",
              "      <td>Selenagomez</td>\n",
              "      <td>93</td>\n",
              "      <td>348800000.0</td>\n",
              "      <td>6.1m</td>\n",
              "      <td>1.9k</td>\n",
              "      <td>0.005</td>\n",
              "      <td>1.7m</td>\n",
              "      <td>11.4b</td>\n",
              "      <td>United States</td>\n",
              "    </tr>\n",
              "    <tr>\n",
              "      <th>4</th>\n",
              "      <td>5</td>\n",
              "      <td>Therock</td>\n",
              "      <td>91</td>\n",
              "      <td>339400000.0</td>\n",
              "      <td>1.8m</td>\n",
              "      <td>6.8k</td>\n",
              "      <td>0.003</td>\n",
              "      <td>932.0k</td>\n",
              "      <td>12.6b</td>\n",
              "      <td>United States</td>\n",
              "    </tr>\n",
              "  </tbody>\n",
              "</table>\n",
              "</div>\n",
              "      <button class=\"colab-df-convert\" onclick=\"convertToInteractive('df-926015b3-84f9-47ee-a68f-513ab0e4ed94')\"\n",
              "              title=\"Convert this dataframe to an interactive table.\"\n",
              "              style=\"display:none;\">\n",
              "        \n",
              "  <svg xmlns=\"http://www.w3.org/2000/svg\" height=\"24px\"viewBox=\"0 0 24 24\"\n",
              "       width=\"24px\">\n",
              "    <path d=\"M0 0h24v24H0V0z\" fill=\"none\"/>\n",
              "    <path d=\"M18.56 5.44l.94 2.06.94-2.06 2.06-.94-2.06-.94-.94-2.06-.94 2.06-2.06.94zm-11 1L8.5 8.5l.94-2.06 2.06-.94-2.06-.94L8.5 2.5l-.94 2.06-2.06.94zm10 10l.94 2.06.94-2.06 2.06-.94-2.06-.94-.94-2.06-.94 2.06-2.06.94z\"/><path d=\"M17.41 7.96l-1.37-1.37c-.4-.4-.92-.59-1.43-.59-.52 0-1.04.2-1.43.59L10.3 9.45l-7.72 7.72c-.78.78-.78 2.05 0 2.83L4 21.41c.39.39.9.59 1.41.59.51 0 1.02-.2 1.41-.59l7.78-7.78 2.81-2.81c.8-.78.8-2.07 0-2.86zM5.41 20L4 18.59l7.72-7.72 1.47 1.35L5.41 20z\"/>\n",
              "  </svg>\n",
              "      </button>\n",
              "      \n",
              "  <style>\n",
              "    .colab-df-container {\n",
              "      display:flex;\n",
              "      flex-wrap:wrap;\n",
              "      gap: 12px;\n",
              "    }\n",
              "\n",
              "    .colab-df-convert {\n",
              "      background-color: #E8F0FE;\n",
              "      border: none;\n",
              "      border-radius: 50%;\n",
              "      cursor: pointer;\n",
              "      display: none;\n",
              "      fill: #1967D2;\n",
              "      height: 32px;\n",
              "      padding: 0 0 0 0;\n",
              "      width: 32px;\n",
              "    }\n",
              "\n",
              "    .colab-df-convert:hover {\n",
              "      background-color: #E2EBFA;\n",
              "      box-shadow: 0px 1px 2px rgba(60, 64, 67, 0.3), 0px 1px 3px 1px rgba(60, 64, 67, 0.15);\n",
              "      fill: #174EA6;\n",
              "    }\n",
              "\n",
              "    [theme=dark] .colab-df-convert {\n",
              "      background-color: #3B4455;\n",
              "      fill: #D2E3FC;\n",
              "    }\n",
              "\n",
              "    [theme=dark] .colab-df-convert:hover {\n",
              "      background-color: #434B5C;\n",
              "      box-shadow: 0px 1px 3px 1px rgba(0, 0, 0, 0.15);\n",
              "      filter: drop-shadow(0px 1px 2px rgba(0, 0, 0, 0.3));\n",
              "      fill: #FFFFFF;\n",
              "    }\n",
              "  </style>\n",
              "\n",
              "      <script>\n",
              "        const buttonEl =\n",
              "          document.querySelector('#df-926015b3-84f9-47ee-a68f-513ab0e4ed94 button.colab-df-convert');\n",
              "        buttonEl.style.display =\n",
              "          google.colab.kernel.accessAllowed ? 'block' : 'none';\n",
              "\n",
              "        async function convertToInteractive(key) {\n",
              "          const element = document.querySelector('#df-926015b3-84f9-47ee-a68f-513ab0e4ed94');\n",
              "          const dataTable =\n",
              "            await google.colab.kernel.invokeFunction('convertToInteractive',\n",
              "                                                     [key], {});\n",
              "          if (!dataTable) return;\n",
              "\n",
              "          const docLinkHtml = 'Like what you see? Visit the ' +\n",
              "            '<a target=\"_blank\" href=https://colab.research.google.com/notebooks/data_table.ipynb>data table notebook</a>'\n",
              "            + ' to learn more about interactive tables.';\n",
              "          element.innerHTML = '';\n",
              "          dataTable['output_type'] = 'display_data';\n",
              "          await google.colab.output.renderOutput(dataTable, element);\n",
              "          const docLink = document.createElement('div');\n",
              "          docLink.innerHTML = docLinkHtml;\n",
              "          element.appendChild(docLink);\n",
              "        }\n",
              "      </script>\n",
              "    </div>\n",
              "  </div>\n",
              "  "
            ]
          },
          "metadata": {},
          "execution_count": 152
        }
      ]
    },
    {
      "cell_type": "code",
      "source": [
        "millon_follower=data[data[\"avg_likes\"].apply(lambda x: x[-1]==\"m\")]\n",
        "k_follower=data[data[\"avg_likes\"].apply(lambda x: x[-1]==\"k\")]\n",
        "num_follower=data[data[\"avg_likes\"].apply(lambda x: x[-1] in \"0123456789\")]"
      ],
      "metadata": {
        "id": "kw1opRF8f3JP"
      },
      "execution_count": null,
      "outputs": []
    },
    {
      "cell_type": "code",
      "source": [
        "millon_follower[\"avg_likes\"]=millon_follower[\"avg_likes\"].apply(millons)\n",
        "k_follower[\"avg_likes\"]=k_follower[\"avg_likes\"].apply(k)\n",
        "data= pd.concat([millon_follower,k_follower,num_follower],axis=0)\n",
        "data.head()"
      ],
      "metadata": {
        "colab": {
          "base_uri": "https://localhost:8080/",
          "height": 322
        },
        "id": "z_P0xPF1iPmW",
        "outputId": "db5efaaf-c7f8-4e3d-fad9-b7e710bfb86f"
      },
      "execution_count": null,
      "outputs": [
        {
          "output_type": "execute_result",
          "data": {
            "text/plain": [
              "   rank channel_info  influence_score    Followers  avg_likes Posts  \\\n",
              "0     1    Cristiano               92  485200000.0  8700000.0  3.4k   \n",
              "1     2  Kyliejenner               91  370700000.0  8200000.0  7.0k   \n",
              "2     3     Leomessi               90  363900000.0  6700000.0   915   \n",
              "3     4  Selenagomez               93  348800000.0  6100000.0  1.9k   \n",
              "4     5      Therock               91  339400000.0  1800000.0  6.8k   \n",
              "\n",
              "   60dayeng_rate newpostavg_like total_likes        Country  \n",
              "0          0.013            6.3m       29.1b          Spain  \n",
              "1          0.014            5.0m       57.4b  United States  \n",
              "2          0.010            3.5m        6.1b          Other  \n",
              "3          0.005            1.7m       11.4b  United States  \n",
              "4          0.003          932.0k       12.6b  United States  "
            ],
            "text/html": [
              "\n",
              "  <div id=\"df-fc67e673-808b-477e-a080-d4fac858d927\">\n",
              "    <div class=\"colab-df-container\">\n",
              "      <div>\n",
              "<style scoped>\n",
              "    .dataframe tbody tr th:only-of-type {\n",
              "        vertical-align: middle;\n",
              "    }\n",
              "\n",
              "    .dataframe tbody tr th {\n",
              "        vertical-align: top;\n",
              "    }\n",
              "\n",
              "    .dataframe thead th {\n",
              "        text-align: right;\n",
              "    }\n",
              "</style>\n",
              "<table border=\"1\" class=\"dataframe\">\n",
              "  <thead>\n",
              "    <tr style=\"text-align: right;\">\n",
              "      <th></th>\n",
              "      <th>rank</th>\n",
              "      <th>channel_info</th>\n",
              "      <th>influence_score</th>\n",
              "      <th>Followers</th>\n",
              "      <th>avg_likes</th>\n",
              "      <th>Posts</th>\n",
              "      <th>60dayeng_rate</th>\n",
              "      <th>newpostavg_like</th>\n",
              "      <th>total_likes</th>\n",
              "      <th>Country</th>\n",
              "    </tr>\n",
              "  </thead>\n",
              "  <tbody>\n",
              "    <tr>\n",
              "      <th>0</th>\n",
              "      <td>1</td>\n",
              "      <td>Cristiano</td>\n",
              "      <td>92</td>\n",
              "      <td>485200000.0</td>\n",
              "      <td>8700000.0</td>\n",
              "      <td>3.4k</td>\n",
              "      <td>0.013</td>\n",
              "      <td>6.3m</td>\n",
              "      <td>29.1b</td>\n",
              "      <td>Spain</td>\n",
              "    </tr>\n",
              "    <tr>\n",
              "      <th>1</th>\n",
              "      <td>2</td>\n",
              "      <td>Kyliejenner</td>\n",
              "      <td>91</td>\n",
              "      <td>370700000.0</td>\n",
              "      <td>8200000.0</td>\n",
              "      <td>7.0k</td>\n",
              "      <td>0.014</td>\n",
              "      <td>5.0m</td>\n",
              "      <td>57.4b</td>\n",
              "      <td>United States</td>\n",
              "    </tr>\n",
              "    <tr>\n",
              "      <th>2</th>\n",
              "      <td>3</td>\n",
              "      <td>Leomessi</td>\n",
              "      <td>90</td>\n",
              "      <td>363900000.0</td>\n",
              "      <td>6700000.0</td>\n",
              "      <td>915</td>\n",
              "      <td>0.010</td>\n",
              "      <td>3.5m</td>\n",
              "      <td>6.1b</td>\n",
              "      <td>Other</td>\n",
              "    </tr>\n",
              "    <tr>\n",
              "      <th>3</th>\n",
              "      <td>4</td>\n",
              "      <td>Selenagomez</td>\n",
              "      <td>93</td>\n",
              "      <td>348800000.0</td>\n",
              "      <td>6100000.0</td>\n",
              "      <td>1.9k</td>\n",
              "      <td>0.005</td>\n",
              "      <td>1.7m</td>\n",
              "      <td>11.4b</td>\n",
              "      <td>United States</td>\n",
              "    </tr>\n",
              "    <tr>\n",
              "      <th>4</th>\n",
              "      <td>5</td>\n",
              "      <td>Therock</td>\n",
              "      <td>91</td>\n",
              "      <td>339400000.0</td>\n",
              "      <td>1800000.0</td>\n",
              "      <td>6.8k</td>\n",
              "      <td>0.003</td>\n",
              "      <td>932.0k</td>\n",
              "      <td>12.6b</td>\n",
              "      <td>United States</td>\n",
              "    </tr>\n",
              "  </tbody>\n",
              "</table>\n",
              "</div>\n",
              "      <button class=\"colab-df-convert\" onclick=\"convertToInteractive('df-fc67e673-808b-477e-a080-d4fac858d927')\"\n",
              "              title=\"Convert this dataframe to an interactive table.\"\n",
              "              style=\"display:none;\">\n",
              "        \n",
              "  <svg xmlns=\"http://www.w3.org/2000/svg\" height=\"24px\"viewBox=\"0 0 24 24\"\n",
              "       width=\"24px\">\n",
              "    <path d=\"M0 0h24v24H0V0z\" fill=\"none\"/>\n",
              "    <path d=\"M18.56 5.44l.94 2.06.94-2.06 2.06-.94-2.06-.94-.94-2.06-.94 2.06-2.06.94zm-11 1L8.5 8.5l.94-2.06 2.06-.94-2.06-.94L8.5 2.5l-.94 2.06-2.06.94zm10 10l.94 2.06.94-2.06 2.06-.94-2.06-.94-.94-2.06-.94 2.06-2.06.94z\"/><path d=\"M17.41 7.96l-1.37-1.37c-.4-.4-.92-.59-1.43-.59-.52 0-1.04.2-1.43.59L10.3 9.45l-7.72 7.72c-.78.78-.78 2.05 0 2.83L4 21.41c.39.39.9.59 1.41.59.51 0 1.02-.2 1.41-.59l7.78-7.78 2.81-2.81c.8-.78.8-2.07 0-2.86zM5.41 20L4 18.59l7.72-7.72 1.47 1.35L5.41 20z\"/>\n",
              "  </svg>\n",
              "      </button>\n",
              "      \n",
              "  <style>\n",
              "    .colab-df-container {\n",
              "      display:flex;\n",
              "      flex-wrap:wrap;\n",
              "      gap: 12px;\n",
              "    }\n",
              "\n",
              "    .colab-df-convert {\n",
              "      background-color: #E8F0FE;\n",
              "      border: none;\n",
              "      border-radius: 50%;\n",
              "      cursor: pointer;\n",
              "      display: none;\n",
              "      fill: #1967D2;\n",
              "      height: 32px;\n",
              "      padding: 0 0 0 0;\n",
              "      width: 32px;\n",
              "    }\n",
              "\n",
              "    .colab-df-convert:hover {\n",
              "      background-color: #E2EBFA;\n",
              "      box-shadow: 0px 1px 2px rgba(60, 64, 67, 0.3), 0px 1px 3px 1px rgba(60, 64, 67, 0.15);\n",
              "      fill: #174EA6;\n",
              "    }\n",
              "\n",
              "    [theme=dark] .colab-df-convert {\n",
              "      background-color: #3B4455;\n",
              "      fill: #D2E3FC;\n",
              "    }\n",
              "\n",
              "    [theme=dark] .colab-df-convert:hover {\n",
              "      background-color: #434B5C;\n",
              "      box-shadow: 0px 1px 3px 1px rgba(0, 0, 0, 0.15);\n",
              "      filter: drop-shadow(0px 1px 2px rgba(0, 0, 0, 0.3));\n",
              "      fill: #FFFFFF;\n",
              "    }\n",
              "  </style>\n",
              "\n",
              "      <script>\n",
              "        const buttonEl =\n",
              "          document.querySelector('#df-fc67e673-808b-477e-a080-d4fac858d927 button.colab-df-convert');\n",
              "        buttonEl.style.display =\n",
              "          google.colab.kernel.accessAllowed ? 'block' : 'none';\n",
              "\n",
              "        async function convertToInteractive(key) {\n",
              "          const element = document.querySelector('#df-fc67e673-808b-477e-a080-d4fac858d927');\n",
              "          const dataTable =\n",
              "            await google.colab.kernel.invokeFunction('convertToInteractive',\n",
              "                                                     [key], {});\n",
              "          if (!dataTable) return;\n",
              "\n",
              "          const docLinkHtml = 'Like what you see? Visit the ' +\n",
              "            '<a target=\"_blank\" href=https://colab.research.google.com/notebooks/data_table.ipynb>data table notebook</a>'\n",
              "            + ' to learn more about interactive tables.';\n",
              "          element.innerHTML = '';\n",
              "          dataTable['output_type'] = 'display_data';\n",
              "          await google.colab.output.renderOutput(dataTable, element);\n",
              "          const docLink = document.createElement('div');\n",
              "          docLink.innerHTML = docLinkHtml;\n",
              "          element.appendChild(docLink);\n",
              "        }\n",
              "      </script>\n",
              "    </div>\n",
              "  </div>\n",
              "  "
            ]
          },
          "metadata": {},
          "execution_count": 154
        }
      ]
    },
    {
      "cell_type": "code",
      "source": [
        "data[\"Posts\"]=data[\"Posts\"].astype(\"str\")\n",
        "millon_follower=data[data[\"Posts\"].apply(lambda x: x[-1]==\"m\")]\n",
        "k_follower=data[data[\"Posts\"].apply(lambda x: x[-1]==\"k\")]\n",
        "num_follower=data[data[\"Posts\"].apply(lambda x: x[-1] in \"0123456789\")]"
      ],
      "metadata": {
        "id": "zJmV278hiec1"
      },
      "execution_count": null,
      "outputs": []
    },
    {
      "cell_type": "code",
      "source": [
        "millon_follower[\"Posts\"]=millon_follower[\"Posts\"].apply(millons)\n",
        "k_follower[\"Posts\"]=k_follower[\"Posts\"].apply(k)\n",
        "data= pd.concat([millon_follower,k_follower,num_follower],axis=0)\n",
        "data"
      ],
      "metadata": {
        "colab": {
          "base_uri": "https://localhost:8080/",
          "height": 592
        },
        "id": "iQOS9pp3izKY",
        "outputId": "4d198923-1490-4a02-da5b-465cf958443d"
      },
      "execution_count": null,
      "outputs": [
        {
          "output_type": "execute_result",
          "data": {
            "text/plain": [
              "     rank     channel_info  influence_score    Followers  avg_likes   Posts  \\\n",
              "0       1        Cristiano               92  485200000.0  8700000.0  3400.0   \n",
              "1       2      Kyliejenner               91  370700000.0  8200000.0  7000.0   \n",
              "3       4      Selenagomez               93  348800000.0  6100000.0  1900.0   \n",
              "4       5          Therock               91  339400000.0  1800000.0  6800.0   \n",
              "5       6     Arianagrande               92  333000000.0  3700000.0  5000.0   \n",
              "..    ...              ...              ...          ...        ...     ...   \n",
              "171   172           Eminem               84   36600000.0   988400.0     691   \n",
              "174   175     Nattinatasha               47   36100000.0   513200.0      59   \n",
              "181   182         Toni.krs               83   35600000.0   597800.0     946   \n",
              "189   190  Adidasoriginals               83   34100000.0   136200.0     180   \n",
              "198   199      Luansantana               79   33500000.0   193300.0     865   \n",
              "\n",
              "     60dayeng_rate newpostavg_like total_likes         Country  \n",
              "0            0.013            6.3m       29.1b           Spain  \n",
              "1            0.014            5.0m       57.4b   United States  \n",
              "3            0.005            1.7m       11.4b   United States  \n",
              "4            0.003          932.0k       12.6b   United States  \n",
              "5            0.009            3.1m       18.5b   United States  \n",
              "..             ...             ...         ...             ...  \n",
              "171          0.011          382.5k      683.0m   United States  \n",
              "174          0.006          201.6k       30.3m  Czech Republic  \n",
              "181          0.012          432.5k      565.5m           Other  \n",
              "189          0.002           66.8k       24.5m           Other  \n",
              "198          0.003           82.6k      167.2m          Brazil  \n",
              "\n",
              "[200 rows x 10 columns]"
            ],
            "text/html": [
              "\n",
              "  <div id=\"df-6f865f1c-09dc-43a4-b224-f58dd3a728b6\">\n",
              "    <div class=\"colab-df-container\">\n",
              "      <div>\n",
              "<style scoped>\n",
              "    .dataframe tbody tr th:only-of-type {\n",
              "        vertical-align: middle;\n",
              "    }\n",
              "\n",
              "    .dataframe tbody tr th {\n",
              "        vertical-align: top;\n",
              "    }\n",
              "\n",
              "    .dataframe thead th {\n",
              "        text-align: right;\n",
              "    }\n",
              "</style>\n",
              "<table border=\"1\" class=\"dataframe\">\n",
              "  <thead>\n",
              "    <tr style=\"text-align: right;\">\n",
              "      <th></th>\n",
              "      <th>rank</th>\n",
              "      <th>channel_info</th>\n",
              "      <th>influence_score</th>\n",
              "      <th>Followers</th>\n",
              "      <th>avg_likes</th>\n",
              "      <th>Posts</th>\n",
              "      <th>60dayeng_rate</th>\n",
              "      <th>newpostavg_like</th>\n",
              "      <th>total_likes</th>\n",
              "      <th>Country</th>\n",
              "    </tr>\n",
              "  </thead>\n",
              "  <tbody>\n",
              "    <tr>\n",
              "      <th>0</th>\n",
              "      <td>1</td>\n",
              "      <td>Cristiano</td>\n",
              "      <td>92</td>\n",
              "      <td>485200000.0</td>\n",
              "      <td>8700000.0</td>\n",
              "      <td>3400.0</td>\n",
              "      <td>0.013</td>\n",
              "      <td>6.3m</td>\n",
              "      <td>29.1b</td>\n",
              "      <td>Spain</td>\n",
              "    </tr>\n",
              "    <tr>\n",
              "      <th>1</th>\n",
              "      <td>2</td>\n",
              "      <td>Kyliejenner</td>\n",
              "      <td>91</td>\n",
              "      <td>370700000.0</td>\n",
              "      <td>8200000.0</td>\n",
              "      <td>7000.0</td>\n",
              "      <td>0.014</td>\n",
              "      <td>5.0m</td>\n",
              "      <td>57.4b</td>\n",
              "      <td>United States</td>\n",
              "    </tr>\n",
              "    <tr>\n",
              "      <th>3</th>\n",
              "      <td>4</td>\n",
              "      <td>Selenagomez</td>\n",
              "      <td>93</td>\n",
              "      <td>348800000.0</td>\n",
              "      <td>6100000.0</td>\n",
              "      <td>1900.0</td>\n",
              "      <td>0.005</td>\n",
              "      <td>1.7m</td>\n",
              "      <td>11.4b</td>\n",
              "      <td>United States</td>\n",
              "    </tr>\n",
              "    <tr>\n",
              "      <th>4</th>\n",
              "      <td>5</td>\n",
              "      <td>Therock</td>\n",
              "      <td>91</td>\n",
              "      <td>339400000.0</td>\n",
              "      <td>1800000.0</td>\n",
              "      <td>6800.0</td>\n",
              "      <td>0.003</td>\n",
              "      <td>932.0k</td>\n",
              "      <td>12.6b</td>\n",
              "      <td>United States</td>\n",
              "    </tr>\n",
              "    <tr>\n",
              "      <th>5</th>\n",
              "      <td>6</td>\n",
              "      <td>Arianagrande</td>\n",
              "      <td>92</td>\n",
              "      <td>333000000.0</td>\n",
              "      <td>3700000.0</td>\n",
              "      <td>5000.0</td>\n",
              "      <td>0.009</td>\n",
              "      <td>3.1m</td>\n",
              "      <td>18.5b</td>\n",
              "      <td>United States</td>\n",
              "    </tr>\n",
              "    <tr>\n",
              "      <th>...</th>\n",
              "      <td>...</td>\n",
              "      <td>...</td>\n",
              "      <td>...</td>\n",
              "      <td>...</td>\n",
              "      <td>...</td>\n",
              "      <td>...</td>\n",
              "      <td>...</td>\n",
              "      <td>...</td>\n",
              "      <td>...</td>\n",
              "      <td>...</td>\n",
              "    </tr>\n",
              "    <tr>\n",
              "      <th>171</th>\n",
              "      <td>172</td>\n",
              "      <td>Eminem</td>\n",
              "      <td>84</td>\n",
              "      <td>36600000.0</td>\n",
              "      <td>988400.0</td>\n",
              "      <td>691</td>\n",
              "      <td>0.011</td>\n",
              "      <td>382.5k</td>\n",
              "      <td>683.0m</td>\n",
              "      <td>United States</td>\n",
              "    </tr>\n",
              "    <tr>\n",
              "      <th>174</th>\n",
              "      <td>175</td>\n",
              "      <td>Nattinatasha</td>\n",
              "      <td>47</td>\n",
              "      <td>36100000.0</td>\n",
              "      <td>513200.0</td>\n",
              "      <td>59</td>\n",
              "      <td>0.006</td>\n",
              "      <td>201.6k</td>\n",
              "      <td>30.3m</td>\n",
              "      <td>Czech Republic</td>\n",
              "    </tr>\n",
              "    <tr>\n",
              "      <th>181</th>\n",
              "      <td>182</td>\n",
              "      <td>Toni.krs</td>\n",
              "      <td>83</td>\n",
              "      <td>35600000.0</td>\n",
              "      <td>597800.0</td>\n",
              "      <td>946</td>\n",
              "      <td>0.012</td>\n",
              "      <td>432.5k</td>\n",
              "      <td>565.5m</td>\n",
              "      <td>Other</td>\n",
              "    </tr>\n",
              "    <tr>\n",
              "      <th>189</th>\n",
              "      <td>190</td>\n",
              "      <td>Adidasoriginals</td>\n",
              "      <td>83</td>\n",
              "      <td>34100000.0</td>\n",
              "      <td>136200.0</td>\n",
              "      <td>180</td>\n",
              "      <td>0.002</td>\n",
              "      <td>66.8k</td>\n",
              "      <td>24.5m</td>\n",
              "      <td>Other</td>\n",
              "    </tr>\n",
              "    <tr>\n",
              "      <th>198</th>\n",
              "      <td>199</td>\n",
              "      <td>Luansantana</td>\n",
              "      <td>79</td>\n",
              "      <td>33500000.0</td>\n",
              "      <td>193300.0</td>\n",
              "      <td>865</td>\n",
              "      <td>0.003</td>\n",
              "      <td>82.6k</td>\n",
              "      <td>167.2m</td>\n",
              "      <td>Brazil</td>\n",
              "    </tr>\n",
              "  </tbody>\n",
              "</table>\n",
              "<p>200 rows × 10 columns</p>\n",
              "</div>\n",
              "      <button class=\"colab-df-convert\" onclick=\"convertToInteractive('df-6f865f1c-09dc-43a4-b224-f58dd3a728b6')\"\n",
              "              title=\"Convert this dataframe to an interactive table.\"\n",
              "              style=\"display:none;\">\n",
              "        \n",
              "  <svg xmlns=\"http://www.w3.org/2000/svg\" height=\"24px\"viewBox=\"0 0 24 24\"\n",
              "       width=\"24px\">\n",
              "    <path d=\"M0 0h24v24H0V0z\" fill=\"none\"/>\n",
              "    <path d=\"M18.56 5.44l.94 2.06.94-2.06 2.06-.94-2.06-.94-.94-2.06-.94 2.06-2.06.94zm-11 1L8.5 8.5l.94-2.06 2.06-.94-2.06-.94L8.5 2.5l-.94 2.06-2.06.94zm10 10l.94 2.06.94-2.06 2.06-.94-2.06-.94-.94-2.06-.94 2.06-2.06.94z\"/><path d=\"M17.41 7.96l-1.37-1.37c-.4-.4-.92-.59-1.43-.59-.52 0-1.04.2-1.43.59L10.3 9.45l-7.72 7.72c-.78.78-.78 2.05 0 2.83L4 21.41c.39.39.9.59 1.41.59.51 0 1.02-.2 1.41-.59l7.78-7.78 2.81-2.81c.8-.78.8-2.07 0-2.86zM5.41 20L4 18.59l7.72-7.72 1.47 1.35L5.41 20z\"/>\n",
              "  </svg>\n",
              "      </button>\n",
              "      \n",
              "  <style>\n",
              "    .colab-df-container {\n",
              "      display:flex;\n",
              "      flex-wrap:wrap;\n",
              "      gap: 12px;\n",
              "    }\n",
              "\n",
              "    .colab-df-convert {\n",
              "      background-color: #E8F0FE;\n",
              "      border: none;\n",
              "      border-radius: 50%;\n",
              "      cursor: pointer;\n",
              "      display: none;\n",
              "      fill: #1967D2;\n",
              "      height: 32px;\n",
              "      padding: 0 0 0 0;\n",
              "      width: 32px;\n",
              "    }\n",
              "\n",
              "    .colab-df-convert:hover {\n",
              "      background-color: #E2EBFA;\n",
              "      box-shadow: 0px 1px 2px rgba(60, 64, 67, 0.3), 0px 1px 3px 1px rgba(60, 64, 67, 0.15);\n",
              "      fill: #174EA6;\n",
              "    }\n",
              "\n",
              "    [theme=dark] .colab-df-convert {\n",
              "      background-color: #3B4455;\n",
              "      fill: #D2E3FC;\n",
              "    }\n",
              "\n",
              "    [theme=dark] .colab-df-convert:hover {\n",
              "      background-color: #434B5C;\n",
              "      box-shadow: 0px 1px 3px 1px rgba(0, 0, 0, 0.15);\n",
              "      filter: drop-shadow(0px 1px 2px rgba(0, 0, 0, 0.3));\n",
              "      fill: #FFFFFF;\n",
              "    }\n",
              "  </style>\n",
              "\n",
              "      <script>\n",
              "        const buttonEl =\n",
              "          document.querySelector('#df-6f865f1c-09dc-43a4-b224-f58dd3a728b6 button.colab-df-convert');\n",
              "        buttonEl.style.display =\n",
              "          google.colab.kernel.accessAllowed ? 'block' : 'none';\n",
              "\n",
              "        async function convertToInteractive(key) {\n",
              "          const element = document.querySelector('#df-6f865f1c-09dc-43a4-b224-f58dd3a728b6');\n",
              "          const dataTable =\n",
              "            await google.colab.kernel.invokeFunction('convertToInteractive',\n",
              "                                                     [key], {});\n",
              "          if (!dataTable) return;\n",
              "\n",
              "          const docLinkHtml = 'Like what you see? Visit the ' +\n",
              "            '<a target=\"_blank\" href=https://colab.research.google.com/notebooks/data_table.ipynb>data table notebook</a>'\n",
              "            + ' to learn more about interactive tables.';\n",
              "          element.innerHTML = '';\n",
              "          dataTable['output_type'] = 'display_data';\n",
              "          await google.colab.output.renderOutput(dataTable, element);\n",
              "          const docLink = document.createElement('div');\n",
              "          docLink.innerHTML = docLinkHtml;\n",
              "          element.appendChild(docLink);\n",
              "        }\n",
              "      </script>\n",
              "    </div>\n",
              "  </div>\n",
              "  "
            ]
          },
          "metadata": {},
          "execution_count": 156
        }
      ]
    },
    {
      "cell_type": "code",
      "source": [
        "data[\"newpostavg_like\"]=data[\"newpostavg_like\"].astype(\"str\")\n",
        "millon_follower=data[data[\"newpostavg_like\"].apply(lambda x: x[-1]==\"m\")]\n",
        "k_follower=data[data[\"newpostavg_like\"].apply(lambda x: x[-1]==\"k\")]\n",
        "num_follower=data[data[\"newpostavg_like\"].apply(lambda x: x[-1] in \"0123456789\")]"
      ],
      "metadata": {
        "id": "91dDC1L9jDlP"
      },
      "execution_count": null,
      "outputs": []
    },
    {
      "cell_type": "code",
      "source": [
        "millon_follower[\"newpostavg_like\"]=millon_follower[\"newpostavg_like\"].apply(millons)\n",
        "k_follower[\"newpostavg_like\"]=k_follower[\"newpostavg_like\"].apply(k)\n",
        "data= pd.concat([millon_follower,k_follower,num_follower],axis=0)\n",
        "data"
      ],
      "metadata": {
        "colab": {
          "base_uri": "https://localhost:8080/",
          "height": 575
        },
        "id": "pENLn0YYjbi5",
        "outputId": "7315af61-250b-4745-c19a-60ecd7ee92fa"
      },
      "execution_count": null,
      "outputs": [
        {
          "output_type": "execute_result",
          "data": {
            "text/plain": [
              "     rank     channel_info  influence_score    Followers  avg_likes   Posts  \\\n",
              "0       1        Cristiano               92  485200000.0  8700000.0  3400.0   \n",
              "1       2      Kyliejenner               91  370700000.0  8200000.0  7000.0   \n",
              "3       4      Selenagomez               93  348800000.0  6100000.0  1900.0   \n",
              "5       6     Arianagrande               92  333000000.0  3700000.0  5000.0   \n",
              "6       7    Kimkardashian               91  330700000.0  3500000.0  5700.0   \n",
              "..    ...              ...              ...          ...        ...     ...   \n",
              "174   175     Nattinatasha               47   36100000.0   513200.0      59   \n",
              "181   182         Toni.krs               83   35600000.0   597800.0     946   \n",
              "189   190  Adidasoriginals               83   34100000.0   136200.0     180   \n",
              "198   199      Luansantana               79   33500000.0   193300.0     865   \n",
              "156   157         Mahi7781               58   39500000.0  4100000.0     107   \n",
              "\n",
              "     60dayeng_rate newpostavg_like total_likes         Country  \n",
              "0            0.013       6300000.0       29.1b           Spain  \n",
              "1            0.014       5000000.0       57.4b   United States  \n",
              "3            0.005       1700000.0       11.4b   United States  \n",
              "5            0.009       3100000.0       18.5b   United States  \n",
              "6            0.005       1700000.0       19.8b   United States  \n",
              "..             ...             ...         ...             ...  \n",
              "174          0.006        201600.0       30.3m  Czech Republic  \n",
              "181          0.012        432500.0      565.5m           Other  \n",
              "189          0.002         66800.0       24.5m           Other  \n",
              "198          0.003         82600.0      167.2m          Brazil  \n",
              "156          0.002               0      444.0m           Other  \n",
              "\n",
              "[200 rows x 10 columns]"
            ],
            "text/html": [
              "\n",
              "  <div id=\"df-e1227cea-af58-4c4b-990d-22cbb9b0ff80\">\n",
              "    <div class=\"colab-df-container\">\n",
              "      <div>\n",
              "<style scoped>\n",
              "    .dataframe tbody tr th:only-of-type {\n",
              "        vertical-align: middle;\n",
              "    }\n",
              "\n",
              "    .dataframe tbody tr th {\n",
              "        vertical-align: top;\n",
              "    }\n",
              "\n",
              "    .dataframe thead th {\n",
              "        text-align: right;\n",
              "    }\n",
              "</style>\n",
              "<table border=\"1\" class=\"dataframe\">\n",
              "  <thead>\n",
              "    <tr style=\"text-align: right;\">\n",
              "      <th></th>\n",
              "      <th>rank</th>\n",
              "      <th>channel_info</th>\n",
              "      <th>influence_score</th>\n",
              "      <th>Followers</th>\n",
              "      <th>avg_likes</th>\n",
              "      <th>Posts</th>\n",
              "      <th>60dayeng_rate</th>\n",
              "      <th>newpostavg_like</th>\n",
              "      <th>total_likes</th>\n",
              "      <th>Country</th>\n",
              "    </tr>\n",
              "  </thead>\n",
              "  <tbody>\n",
              "    <tr>\n",
              "      <th>0</th>\n",
              "      <td>1</td>\n",
              "      <td>Cristiano</td>\n",
              "      <td>92</td>\n",
              "      <td>485200000.0</td>\n",
              "      <td>8700000.0</td>\n",
              "      <td>3400.0</td>\n",
              "      <td>0.013</td>\n",
              "      <td>6300000.0</td>\n",
              "      <td>29.1b</td>\n",
              "      <td>Spain</td>\n",
              "    </tr>\n",
              "    <tr>\n",
              "      <th>1</th>\n",
              "      <td>2</td>\n",
              "      <td>Kyliejenner</td>\n",
              "      <td>91</td>\n",
              "      <td>370700000.0</td>\n",
              "      <td>8200000.0</td>\n",
              "      <td>7000.0</td>\n",
              "      <td>0.014</td>\n",
              "      <td>5000000.0</td>\n",
              "      <td>57.4b</td>\n",
              "      <td>United States</td>\n",
              "    </tr>\n",
              "    <tr>\n",
              "      <th>3</th>\n",
              "      <td>4</td>\n",
              "      <td>Selenagomez</td>\n",
              "      <td>93</td>\n",
              "      <td>348800000.0</td>\n",
              "      <td>6100000.0</td>\n",
              "      <td>1900.0</td>\n",
              "      <td>0.005</td>\n",
              "      <td>1700000.0</td>\n",
              "      <td>11.4b</td>\n",
              "      <td>United States</td>\n",
              "    </tr>\n",
              "    <tr>\n",
              "      <th>5</th>\n",
              "      <td>6</td>\n",
              "      <td>Arianagrande</td>\n",
              "      <td>92</td>\n",
              "      <td>333000000.0</td>\n",
              "      <td>3700000.0</td>\n",
              "      <td>5000.0</td>\n",
              "      <td>0.009</td>\n",
              "      <td>3100000.0</td>\n",
              "      <td>18.5b</td>\n",
              "      <td>United States</td>\n",
              "    </tr>\n",
              "    <tr>\n",
              "      <th>6</th>\n",
              "      <td>7</td>\n",
              "      <td>Kimkardashian</td>\n",
              "      <td>91</td>\n",
              "      <td>330700000.0</td>\n",
              "      <td>3500000.0</td>\n",
              "      <td>5700.0</td>\n",
              "      <td>0.005</td>\n",
              "      <td>1700000.0</td>\n",
              "      <td>19.8b</td>\n",
              "      <td>United States</td>\n",
              "    </tr>\n",
              "    <tr>\n",
              "      <th>...</th>\n",
              "      <td>...</td>\n",
              "      <td>...</td>\n",
              "      <td>...</td>\n",
              "      <td>...</td>\n",
              "      <td>...</td>\n",
              "      <td>...</td>\n",
              "      <td>...</td>\n",
              "      <td>...</td>\n",
              "      <td>...</td>\n",
              "      <td>...</td>\n",
              "    </tr>\n",
              "    <tr>\n",
              "      <th>174</th>\n",
              "      <td>175</td>\n",
              "      <td>Nattinatasha</td>\n",
              "      <td>47</td>\n",
              "      <td>36100000.0</td>\n",
              "      <td>513200.0</td>\n",
              "      <td>59</td>\n",
              "      <td>0.006</td>\n",
              "      <td>201600.0</td>\n",
              "      <td>30.3m</td>\n",
              "      <td>Czech Republic</td>\n",
              "    </tr>\n",
              "    <tr>\n",
              "      <th>181</th>\n",
              "      <td>182</td>\n",
              "      <td>Toni.krs</td>\n",
              "      <td>83</td>\n",
              "      <td>35600000.0</td>\n",
              "      <td>597800.0</td>\n",
              "      <td>946</td>\n",
              "      <td>0.012</td>\n",
              "      <td>432500.0</td>\n",
              "      <td>565.5m</td>\n",
              "      <td>Other</td>\n",
              "    </tr>\n",
              "    <tr>\n",
              "      <th>189</th>\n",
              "      <td>190</td>\n",
              "      <td>Adidasoriginals</td>\n",
              "      <td>83</td>\n",
              "      <td>34100000.0</td>\n",
              "      <td>136200.0</td>\n",
              "      <td>180</td>\n",
              "      <td>0.002</td>\n",
              "      <td>66800.0</td>\n",
              "      <td>24.5m</td>\n",
              "      <td>Other</td>\n",
              "    </tr>\n",
              "    <tr>\n",
              "      <th>198</th>\n",
              "      <td>199</td>\n",
              "      <td>Luansantana</td>\n",
              "      <td>79</td>\n",
              "      <td>33500000.0</td>\n",
              "      <td>193300.0</td>\n",
              "      <td>865</td>\n",
              "      <td>0.003</td>\n",
              "      <td>82600.0</td>\n",
              "      <td>167.2m</td>\n",
              "      <td>Brazil</td>\n",
              "    </tr>\n",
              "    <tr>\n",
              "      <th>156</th>\n",
              "      <td>157</td>\n",
              "      <td>Mahi7781</td>\n",
              "      <td>58</td>\n",
              "      <td>39500000.0</td>\n",
              "      <td>4100000.0</td>\n",
              "      <td>107</td>\n",
              "      <td>0.002</td>\n",
              "      <td>0</td>\n",
              "      <td>444.0m</td>\n",
              "      <td>Other</td>\n",
              "    </tr>\n",
              "  </tbody>\n",
              "</table>\n",
              "<p>200 rows × 10 columns</p>\n",
              "</div>\n",
              "      <button class=\"colab-df-convert\" onclick=\"convertToInteractive('df-e1227cea-af58-4c4b-990d-22cbb9b0ff80')\"\n",
              "              title=\"Convert this dataframe to an interactive table.\"\n",
              "              style=\"display:none;\">\n",
              "        \n",
              "  <svg xmlns=\"http://www.w3.org/2000/svg\" height=\"24px\"viewBox=\"0 0 24 24\"\n",
              "       width=\"24px\">\n",
              "    <path d=\"M0 0h24v24H0V0z\" fill=\"none\"/>\n",
              "    <path d=\"M18.56 5.44l.94 2.06.94-2.06 2.06-.94-2.06-.94-.94-2.06-.94 2.06-2.06.94zm-11 1L8.5 8.5l.94-2.06 2.06-.94-2.06-.94L8.5 2.5l-.94 2.06-2.06.94zm10 10l.94 2.06.94-2.06 2.06-.94-2.06-.94-.94-2.06-.94 2.06-2.06.94z\"/><path d=\"M17.41 7.96l-1.37-1.37c-.4-.4-.92-.59-1.43-.59-.52 0-1.04.2-1.43.59L10.3 9.45l-7.72 7.72c-.78.78-.78 2.05 0 2.83L4 21.41c.39.39.9.59 1.41.59.51 0 1.02-.2 1.41-.59l7.78-7.78 2.81-2.81c.8-.78.8-2.07 0-2.86zM5.41 20L4 18.59l7.72-7.72 1.47 1.35L5.41 20z\"/>\n",
              "  </svg>\n",
              "      </button>\n",
              "      \n",
              "  <style>\n",
              "    .colab-df-container {\n",
              "      display:flex;\n",
              "      flex-wrap:wrap;\n",
              "      gap: 12px;\n",
              "    }\n",
              "\n",
              "    .colab-df-convert {\n",
              "      background-color: #E8F0FE;\n",
              "      border: none;\n",
              "      border-radius: 50%;\n",
              "      cursor: pointer;\n",
              "      display: none;\n",
              "      fill: #1967D2;\n",
              "      height: 32px;\n",
              "      padding: 0 0 0 0;\n",
              "      width: 32px;\n",
              "    }\n",
              "\n",
              "    .colab-df-convert:hover {\n",
              "      background-color: #E2EBFA;\n",
              "      box-shadow: 0px 1px 2px rgba(60, 64, 67, 0.3), 0px 1px 3px 1px rgba(60, 64, 67, 0.15);\n",
              "      fill: #174EA6;\n",
              "    }\n",
              "\n",
              "    [theme=dark] .colab-df-convert {\n",
              "      background-color: #3B4455;\n",
              "      fill: #D2E3FC;\n",
              "    }\n",
              "\n",
              "    [theme=dark] .colab-df-convert:hover {\n",
              "      background-color: #434B5C;\n",
              "      box-shadow: 0px 1px 3px 1px rgba(0, 0, 0, 0.15);\n",
              "      filter: drop-shadow(0px 1px 2px rgba(0, 0, 0, 0.3));\n",
              "      fill: #FFFFFF;\n",
              "    }\n",
              "  </style>\n",
              "\n",
              "      <script>\n",
              "        const buttonEl =\n",
              "          document.querySelector('#df-e1227cea-af58-4c4b-990d-22cbb9b0ff80 button.colab-df-convert');\n",
              "        buttonEl.style.display =\n",
              "          google.colab.kernel.accessAllowed ? 'block' : 'none';\n",
              "\n",
              "        async function convertToInteractive(key) {\n",
              "          const element = document.querySelector('#df-e1227cea-af58-4c4b-990d-22cbb9b0ff80');\n",
              "          const dataTable =\n",
              "            await google.colab.kernel.invokeFunction('convertToInteractive',\n",
              "                                                     [key], {});\n",
              "          if (!dataTable) return;\n",
              "\n",
              "          const docLinkHtml = 'Like what you see? Visit the ' +\n",
              "            '<a target=\"_blank\" href=https://colab.research.google.com/notebooks/data_table.ipynb>data table notebook</a>'\n",
              "            + ' to learn more about interactive tables.';\n",
              "          element.innerHTML = '';\n",
              "          dataTable['output_type'] = 'display_data';\n",
              "          await google.colab.output.renderOutput(dataTable, element);\n",
              "          const docLink = document.createElement('div');\n",
              "          docLink.innerHTML = docLinkHtml;\n",
              "          element.appendChild(docLink);\n",
              "        }\n",
              "      </script>\n",
              "    </div>\n",
              "  </div>\n",
              "  "
            ]
          },
          "metadata": {},
          "execution_count": 158
        }
      ]
    },
    {
      "cell_type": "code",
      "source": [
        "data[\"total_likes\"]=data[\"total_likes\"].astype(\"str\")\n",
        "billon_follower=data[data[\"total_likes\"].apply(lambda x: x[-1]==\"b\")]\n",
        "millon_follower=data[data[\"total_likes\"].apply(lambda x: x[-1]==\"m\")]\n",
        "k_follower=data[data[\"total_likes\"].apply(lambda x: x[-1]==\"k\")]\n",
        "num_follower=data[data[\"total_likes\"].apply(lambda x: x[-1] in \"0123456789\")]"
      ],
      "metadata": {
        "id": "CjypQIlfjm_Y"
      },
      "execution_count": null,
      "outputs": []
    },
    {
      "cell_type": "code",
      "source": [
        "millon_follower[\"total_likes\"]=millon_follower[\"total_likes\"].apply(millons)\n",
        "billon_follower[\"total_likes\"]=billon_follower[\"total_likes\"].apply(billon)\n",
        "k_follower[\"total_likes\"]=k_follower[\"total_likes\"].apply(k)\n",
        "data= pd.concat([billon_follower,millon_follower,k_follower,num_follower],axis=0)\n",
        "data"
      ],
      "metadata": {
        "colab": {
          "base_uri": "https://localhost:8080/",
          "height": 575
        },
        "id": "-WKTD1APjx5k",
        "outputId": "d7f6999e-bb96-4f97-fa5d-e3c27aca365d"
      },
      "execution_count": null,
      "outputs": [
        {
          "output_type": "execute_result",
          "data": {
            "text/plain": [
              "     rank     channel_info  influence_score    Followers  avg_likes   Posts  \\\n",
              "0       1        Cristiano               92  485200000.0  8700000.0  3400.0   \n",
              "1       2      Kyliejenner               91  370700000.0  8200000.0  7000.0   \n",
              "3       4      Selenagomez               93  348800000.0  6100000.0  1900.0   \n",
              "5       6     Arianagrande               92  333000000.0  3700000.0  5000.0   \n",
              "6       7    Kimkardashian               91  330700000.0  3500000.0  5700.0   \n",
              "..    ...              ...              ...          ...        ...     ...   \n",
              "174   175     Nattinatasha               47   36100000.0   513200.0      59   \n",
              "181   182         Toni.krs               83   35600000.0   597800.0     946   \n",
              "189   190  Adidasoriginals               83   34100000.0   136200.0     180   \n",
              "198   199      Luansantana               79   33500000.0   193300.0     865   \n",
              "156   157         Mahi7781               58   39500000.0  4100000.0     107   \n",
              "\n",
              "     60dayeng_rate newpostavg_like   total_likes         Country  \n",
              "0            0.013       6300000.0  2.910000e+10           Spain  \n",
              "1            0.014       5000000.0  5.740000e+10   United States  \n",
              "3            0.005       1700000.0  1.140000e+10   United States  \n",
              "5            0.009       3100000.0  1.850000e+10   United States  \n",
              "6            0.005       1700000.0  1.980000e+10   United States  \n",
              "..             ...             ...           ...             ...  \n",
              "174          0.006        201600.0  3.030000e+07  Czech Republic  \n",
              "181          0.012        432500.0  5.655000e+08           Other  \n",
              "189          0.002         66800.0  2.450000e+07           Other  \n",
              "198          0.003         82600.0  1.672000e+08          Brazil  \n",
              "156          0.002               0  4.440000e+08           Other  \n",
              "\n",
              "[200 rows x 10 columns]"
            ],
            "text/html": [
              "\n",
              "  <div id=\"df-1ce14649-5c02-4cc3-ade4-b942e2c69a94\">\n",
              "    <div class=\"colab-df-container\">\n",
              "      <div>\n",
              "<style scoped>\n",
              "    .dataframe tbody tr th:only-of-type {\n",
              "        vertical-align: middle;\n",
              "    }\n",
              "\n",
              "    .dataframe tbody tr th {\n",
              "        vertical-align: top;\n",
              "    }\n",
              "\n",
              "    .dataframe thead th {\n",
              "        text-align: right;\n",
              "    }\n",
              "</style>\n",
              "<table border=\"1\" class=\"dataframe\">\n",
              "  <thead>\n",
              "    <tr style=\"text-align: right;\">\n",
              "      <th></th>\n",
              "      <th>rank</th>\n",
              "      <th>channel_info</th>\n",
              "      <th>influence_score</th>\n",
              "      <th>Followers</th>\n",
              "      <th>avg_likes</th>\n",
              "      <th>Posts</th>\n",
              "      <th>60dayeng_rate</th>\n",
              "      <th>newpostavg_like</th>\n",
              "      <th>total_likes</th>\n",
              "      <th>Country</th>\n",
              "    </tr>\n",
              "  </thead>\n",
              "  <tbody>\n",
              "    <tr>\n",
              "      <th>0</th>\n",
              "      <td>1</td>\n",
              "      <td>Cristiano</td>\n",
              "      <td>92</td>\n",
              "      <td>485200000.0</td>\n",
              "      <td>8700000.0</td>\n",
              "      <td>3400.0</td>\n",
              "      <td>0.013</td>\n",
              "      <td>6300000.0</td>\n",
              "      <td>2.910000e+10</td>\n",
              "      <td>Spain</td>\n",
              "    </tr>\n",
              "    <tr>\n",
              "      <th>1</th>\n",
              "      <td>2</td>\n",
              "      <td>Kyliejenner</td>\n",
              "      <td>91</td>\n",
              "      <td>370700000.0</td>\n",
              "      <td>8200000.0</td>\n",
              "      <td>7000.0</td>\n",
              "      <td>0.014</td>\n",
              "      <td>5000000.0</td>\n",
              "      <td>5.740000e+10</td>\n",
              "      <td>United States</td>\n",
              "    </tr>\n",
              "    <tr>\n",
              "      <th>3</th>\n",
              "      <td>4</td>\n",
              "      <td>Selenagomez</td>\n",
              "      <td>93</td>\n",
              "      <td>348800000.0</td>\n",
              "      <td>6100000.0</td>\n",
              "      <td>1900.0</td>\n",
              "      <td>0.005</td>\n",
              "      <td>1700000.0</td>\n",
              "      <td>1.140000e+10</td>\n",
              "      <td>United States</td>\n",
              "    </tr>\n",
              "    <tr>\n",
              "      <th>5</th>\n",
              "      <td>6</td>\n",
              "      <td>Arianagrande</td>\n",
              "      <td>92</td>\n",
              "      <td>333000000.0</td>\n",
              "      <td>3700000.0</td>\n",
              "      <td>5000.0</td>\n",
              "      <td>0.009</td>\n",
              "      <td>3100000.0</td>\n",
              "      <td>1.850000e+10</td>\n",
              "      <td>United States</td>\n",
              "    </tr>\n",
              "    <tr>\n",
              "      <th>6</th>\n",
              "      <td>7</td>\n",
              "      <td>Kimkardashian</td>\n",
              "      <td>91</td>\n",
              "      <td>330700000.0</td>\n",
              "      <td>3500000.0</td>\n",
              "      <td>5700.0</td>\n",
              "      <td>0.005</td>\n",
              "      <td>1700000.0</td>\n",
              "      <td>1.980000e+10</td>\n",
              "      <td>United States</td>\n",
              "    </tr>\n",
              "    <tr>\n",
              "      <th>...</th>\n",
              "      <td>...</td>\n",
              "      <td>...</td>\n",
              "      <td>...</td>\n",
              "      <td>...</td>\n",
              "      <td>...</td>\n",
              "      <td>...</td>\n",
              "      <td>...</td>\n",
              "      <td>...</td>\n",
              "      <td>...</td>\n",
              "      <td>...</td>\n",
              "    </tr>\n",
              "    <tr>\n",
              "      <th>174</th>\n",
              "      <td>175</td>\n",
              "      <td>Nattinatasha</td>\n",
              "      <td>47</td>\n",
              "      <td>36100000.0</td>\n",
              "      <td>513200.0</td>\n",
              "      <td>59</td>\n",
              "      <td>0.006</td>\n",
              "      <td>201600.0</td>\n",
              "      <td>3.030000e+07</td>\n",
              "      <td>Czech Republic</td>\n",
              "    </tr>\n",
              "    <tr>\n",
              "      <th>181</th>\n",
              "      <td>182</td>\n",
              "      <td>Toni.krs</td>\n",
              "      <td>83</td>\n",
              "      <td>35600000.0</td>\n",
              "      <td>597800.0</td>\n",
              "      <td>946</td>\n",
              "      <td>0.012</td>\n",
              "      <td>432500.0</td>\n",
              "      <td>5.655000e+08</td>\n",
              "      <td>Other</td>\n",
              "    </tr>\n",
              "    <tr>\n",
              "      <th>189</th>\n",
              "      <td>190</td>\n",
              "      <td>Adidasoriginals</td>\n",
              "      <td>83</td>\n",
              "      <td>34100000.0</td>\n",
              "      <td>136200.0</td>\n",
              "      <td>180</td>\n",
              "      <td>0.002</td>\n",
              "      <td>66800.0</td>\n",
              "      <td>2.450000e+07</td>\n",
              "      <td>Other</td>\n",
              "    </tr>\n",
              "    <tr>\n",
              "      <th>198</th>\n",
              "      <td>199</td>\n",
              "      <td>Luansantana</td>\n",
              "      <td>79</td>\n",
              "      <td>33500000.0</td>\n",
              "      <td>193300.0</td>\n",
              "      <td>865</td>\n",
              "      <td>0.003</td>\n",
              "      <td>82600.0</td>\n",
              "      <td>1.672000e+08</td>\n",
              "      <td>Brazil</td>\n",
              "    </tr>\n",
              "    <tr>\n",
              "      <th>156</th>\n",
              "      <td>157</td>\n",
              "      <td>Mahi7781</td>\n",
              "      <td>58</td>\n",
              "      <td>39500000.0</td>\n",
              "      <td>4100000.0</td>\n",
              "      <td>107</td>\n",
              "      <td>0.002</td>\n",
              "      <td>0</td>\n",
              "      <td>4.440000e+08</td>\n",
              "      <td>Other</td>\n",
              "    </tr>\n",
              "  </tbody>\n",
              "</table>\n",
              "<p>200 rows × 10 columns</p>\n",
              "</div>\n",
              "      <button class=\"colab-df-convert\" onclick=\"convertToInteractive('df-1ce14649-5c02-4cc3-ade4-b942e2c69a94')\"\n",
              "              title=\"Convert this dataframe to an interactive table.\"\n",
              "              style=\"display:none;\">\n",
              "        \n",
              "  <svg xmlns=\"http://www.w3.org/2000/svg\" height=\"24px\"viewBox=\"0 0 24 24\"\n",
              "       width=\"24px\">\n",
              "    <path d=\"M0 0h24v24H0V0z\" fill=\"none\"/>\n",
              "    <path d=\"M18.56 5.44l.94 2.06.94-2.06 2.06-.94-2.06-.94-.94-2.06-.94 2.06-2.06.94zm-11 1L8.5 8.5l.94-2.06 2.06-.94-2.06-.94L8.5 2.5l-.94 2.06-2.06.94zm10 10l.94 2.06.94-2.06 2.06-.94-2.06-.94-.94-2.06-.94 2.06-2.06.94z\"/><path d=\"M17.41 7.96l-1.37-1.37c-.4-.4-.92-.59-1.43-.59-.52 0-1.04.2-1.43.59L10.3 9.45l-7.72 7.72c-.78.78-.78 2.05 0 2.83L4 21.41c.39.39.9.59 1.41.59.51 0 1.02-.2 1.41-.59l7.78-7.78 2.81-2.81c.8-.78.8-2.07 0-2.86zM5.41 20L4 18.59l7.72-7.72 1.47 1.35L5.41 20z\"/>\n",
              "  </svg>\n",
              "      </button>\n",
              "      \n",
              "  <style>\n",
              "    .colab-df-container {\n",
              "      display:flex;\n",
              "      flex-wrap:wrap;\n",
              "      gap: 12px;\n",
              "    }\n",
              "\n",
              "    .colab-df-convert {\n",
              "      background-color: #E8F0FE;\n",
              "      border: none;\n",
              "      border-radius: 50%;\n",
              "      cursor: pointer;\n",
              "      display: none;\n",
              "      fill: #1967D2;\n",
              "      height: 32px;\n",
              "      padding: 0 0 0 0;\n",
              "      width: 32px;\n",
              "    }\n",
              "\n",
              "    .colab-df-convert:hover {\n",
              "      background-color: #E2EBFA;\n",
              "      box-shadow: 0px 1px 2px rgba(60, 64, 67, 0.3), 0px 1px 3px 1px rgba(60, 64, 67, 0.15);\n",
              "      fill: #174EA6;\n",
              "    }\n",
              "\n",
              "    [theme=dark] .colab-df-convert {\n",
              "      background-color: #3B4455;\n",
              "      fill: #D2E3FC;\n",
              "    }\n",
              "\n",
              "    [theme=dark] .colab-df-convert:hover {\n",
              "      background-color: #434B5C;\n",
              "      box-shadow: 0px 1px 3px 1px rgba(0, 0, 0, 0.15);\n",
              "      filter: drop-shadow(0px 1px 2px rgba(0, 0, 0, 0.3));\n",
              "      fill: #FFFFFF;\n",
              "    }\n",
              "  </style>\n",
              "\n",
              "      <script>\n",
              "        const buttonEl =\n",
              "          document.querySelector('#df-1ce14649-5c02-4cc3-ade4-b942e2c69a94 button.colab-df-convert');\n",
              "        buttonEl.style.display =\n",
              "          google.colab.kernel.accessAllowed ? 'block' : 'none';\n",
              "\n",
              "        async function convertToInteractive(key) {\n",
              "          const element = document.querySelector('#df-1ce14649-5c02-4cc3-ade4-b942e2c69a94');\n",
              "          const dataTable =\n",
              "            await google.colab.kernel.invokeFunction('convertToInteractive',\n",
              "                                                     [key], {});\n",
              "          if (!dataTable) return;\n",
              "\n",
              "          const docLinkHtml = 'Like what you see? Visit the ' +\n",
              "            '<a target=\"_blank\" href=https://colab.research.google.com/notebooks/data_table.ipynb>data table notebook</a>'\n",
              "            + ' to learn more about interactive tables.';\n",
              "          element.innerHTML = '';\n",
              "          dataTable['output_type'] = 'display_data';\n",
              "          await google.colab.output.renderOutput(dataTable, element);\n",
              "          const docLink = document.createElement('div');\n",
              "          docLink.innerHTML = docLinkHtml;\n",
              "          element.appendChild(docLink);\n",
              "        }\n",
              "      </script>\n",
              "    </div>\n",
              "  </div>\n",
              "  "
            ]
          },
          "metadata": {},
          "execution_count": 160
        }
      ]
    },
    {
      "cell_type": "code",
      "source": [
        "data[\"60dayeng_rate\"]=data[\"60dayeng_rate\"].apply(lambda x:x*100)"
      ],
      "metadata": {
        "id": "KUvb3RUwjx72"
      },
      "execution_count": null,
      "outputs": []
    },
    {
      "cell_type": "code",
      "source": [
        "data.head()"
      ],
      "metadata": {
        "colab": {
          "base_uri": "https://localhost:8080/",
          "height": 340
        },
        "id": "6neEfCoyjyBt",
        "outputId": "ada4f6c3-3a5b-4a07-c1d5-d2d71ba15e25"
      },
      "execution_count": null,
      "outputs": [
        {
          "output_type": "execute_result",
          "data": {
            "text/plain": [
              "   rank   channel_info  influence_score    Followers  avg_likes   Posts  \\\n",
              "0     1      Cristiano               92  485200000.0  8700000.0  3400.0   \n",
              "1     2    Kyliejenner               91  370700000.0  8200000.0  7000.0   \n",
              "3     4    Selenagomez               93  348800000.0  6100000.0  1900.0   \n",
              "5     6   Arianagrande               92  333000000.0  3700000.0  5000.0   \n",
              "6     7  Kimkardashian               91  330700000.0  3500000.0  5700.0   \n",
              "\n",
              "   60dayeng_rate newpostavg_like   total_likes        Country  \n",
              "0            1.3       6300000.0  2.910000e+10          Spain  \n",
              "1            1.4       5000000.0  5.740000e+10  United States  \n",
              "3            0.5       1700000.0  1.140000e+10  United States  \n",
              "5            0.9       3100000.0  1.850000e+10  United States  \n",
              "6            0.5       1700000.0  1.980000e+10  United States  "
            ],
            "text/html": [
              "\n",
              "  <div id=\"df-5828469d-27f8-432c-a820-9c3c4ae1db3a\">\n",
              "    <div class=\"colab-df-container\">\n",
              "      <div>\n",
              "<style scoped>\n",
              "    .dataframe tbody tr th:only-of-type {\n",
              "        vertical-align: middle;\n",
              "    }\n",
              "\n",
              "    .dataframe tbody tr th {\n",
              "        vertical-align: top;\n",
              "    }\n",
              "\n",
              "    .dataframe thead th {\n",
              "        text-align: right;\n",
              "    }\n",
              "</style>\n",
              "<table border=\"1\" class=\"dataframe\">\n",
              "  <thead>\n",
              "    <tr style=\"text-align: right;\">\n",
              "      <th></th>\n",
              "      <th>rank</th>\n",
              "      <th>channel_info</th>\n",
              "      <th>influence_score</th>\n",
              "      <th>Followers</th>\n",
              "      <th>avg_likes</th>\n",
              "      <th>Posts</th>\n",
              "      <th>60dayeng_rate</th>\n",
              "      <th>newpostavg_like</th>\n",
              "      <th>total_likes</th>\n",
              "      <th>Country</th>\n",
              "    </tr>\n",
              "  </thead>\n",
              "  <tbody>\n",
              "    <tr>\n",
              "      <th>0</th>\n",
              "      <td>1</td>\n",
              "      <td>Cristiano</td>\n",
              "      <td>92</td>\n",
              "      <td>485200000.0</td>\n",
              "      <td>8700000.0</td>\n",
              "      <td>3400.0</td>\n",
              "      <td>1.3</td>\n",
              "      <td>6300000.0</td>\n",
              "      <td>2.910000e+10</td>\n",
              "      <td>Spain</td>\n",
              "    </tr>\n",
              "    <tr>\n",
              "      <th>1</th>\n",
              "      <td>2</td>\n",
              "      <td>Kyliejenner</td>\n",
              "      <td>91</td>\n",
              "      <td>370700000.0</td>\n",
              "      <td>8200000.0</td>\n",
              "      <td>7000.0</td>\n",
              "      <td>1.4</td>\n",
              "      <td>5000000.0</td>\n",
              "      <td>5.740000e+10</td>\n",
              "      <td>United States</td>\n",
              "    </tr>\n",
              "    <tr>\n",
              "      <th>3</th>\n",
              "      <td>4</td>\n",
              "      <td>Selenagomez</td>\n",
              "      <td>93</td>\n",
              "      <td>348800000.0</td>\n",
              "      <td>6100000.0</td>\n",
              "      <td>1900.0</td>\n",
              "      <td>0.5</td>\n",
              "      <td>1700000.0</td>\n",
              "      <td>1.140000e+10</td>\n",
              "      <td>United States</td>\n",
              "    </tr>\n",
              "    <tr>\n",
              "      <th>5</th>\n",
              "      <td>6</td>\n",
              "      <td>Arianagrande</td>\n",
              "      <td>92</td>\n",
              "      <td>333000000.0</td>\n",
              "      <td>3700000.0</td>\n",
              "      <td>5000.0</td>\n",
              "      <td>0.9</td>\n",
              "      <td>3100000.0</td>\n",
              "      <td>1.850000e+10</td>\n",
              "      <td>United States</td>\n",
              "    </tr>\n",
              "    <tr>\n",
              "      <th>6</th>\n",
              "      <td>7</td>\n",
              "      <td>Kimkardashian</td>\n",
              "      <td>91</td>\n",
              "      <td>330700000.0</td>\n",
              "      <td>3500000.0</td>\n",
              "      <td>5700.0</td>\n",
              "      <td>0.5</td>\n",
              "      <td>1700000.0</td>\n",
              "      <td>1.980000e+10</td>\n",
              "      <td>United States</td>\n",
              "    </tr>\n",
              "  </tbody>\n",
              "</table>\n",
              "</div>\n",
              "      <button class=\"colab-df-convert\" onclick=\"convertToInteractive('df-5828469d-27f8-432c-a820-9c3c4ae1db3a')\"\n",
              "              title=\"Convert this dataframe to an interactive table.\"\n",
              "              style=\"display:none;\">\n",
              "        \n",
              "  <svg xmlns=\"http://www.w3.org/2000/svg\" height=\"24px\"viewBox=\"0 0 24 24\"\n",
              "       width=\"24px\">\n",
              "    <path d=\"M0 0h24v24H0V0z\" fill=\"none\"/>\n",
              "    <path d=\"M18.56 5.44l.94 2.06.94-2.06 2.06-.94-2.06-.94-.94-2.06-.94 2.06-2.06.94zm-11 1L8.5 8.5l.94-2.06 2.06-.94-2.06-.94L8.5 2.5l-.94 2.06-2.06.94zm10 10l.94 2.06.94-2.06 2.06-.94-2.06-.94-.94-2.06-.94 2.06-2.06.94z\"/><path d=\"M17.41 7.96l-1.37-1.37c-.4-.4-.92-.59-1.43-.59-.52 0-1.04.2-1.43.59L10.3 9.45l-7.72 7.72c-.78.78-.78 2.05 0 2.83L4 21.41c.39.39.9.59 1.41.59.51 0 1.02-.2 1.41-.59l7.78-7.78 2.81-2.81c.8-.78.8-2.07 0-2.86zM5.41 20L4 18.59l7.72-7.72 1.47 1.35L5.41 20z\"/>\n",
              "  </svg>\n",
              "      </button>\n",
              "      \n",
              "  <style>\n",
              "    .colab-df-container {\n",
              "      display:flex;\n",
              "      flex-wrap:wrap;\n",
              "      gap: 12px;\n",
              "    }\n",
              "\n",
              "    .colab-df-convert {\n",
              "      background-color: #E8F0FE;\n",
              "      border: none;\n",
              "      border-radius: 50%;\n",
              "      cursor: pointer;\n",
              "      display: none;\n",
              "      fill: #1967D2;\n",
              "      height: 32px;\n",
              "      padding: 0 0 0 0;\n",
              "      width: 32px;\n",
              "    }\n",
              "\n",
              "    .colab-df-convert:hover {\n",
              "      background-color: #E2EBFA;\n",
              "      box-shadow: 0px 1px 2px rgba(60, 64, 67, 0.3), 0px 1px 3px 1px rgba(60, 64, 67, 0.15);\n",
              "      fill: #174EA6;\n",
              "    }\n",
              "\n",
              "    [theme=dark] .colab-df-convert {\n",
              "      background-color: #3B4455;\n",
              "      fill: #D2E3FC;\n",
              "    }\n",
              "\n",
              "    [theme=dark] .colab-df-convert:hover {\n",
              "      background-color: #434B5C;\n",
              "      box-shadow: 0px 1px 3px 1px rgba(0, 0, 0, 0.15);\n",
              "      filter: drop-shadow(0px 1px 2px rgba(0, 0, 0, 0.3));\n",
              "      fill: #FFFFFF;\n",
              "    }\n",
              "  </style>\n",
              "\n",
              "      <script>\n",
              "        const buttonEl =\n",
              "          document.querySelector('#df-5828469d-27f8-432c-a820-9c3c4ae1db3a button.colab-df-convert');\n",
              "        buttonEl.style.display =\n",
              "          google.colab.kernel.accessAllowed ? 'block' : 'none';\n",
              "\n",
              "        async function convertToInteractive(key) {\n",
              "          const element = document.querySelector('#df-5828469d-27f8-432c-a820-9c3c4ae1db3a');\n",
              "          const dataTable =\n",
              "            await google.colab.kernel.invokeFunction('convertToInteractive',\n",
              "                                                     [key], {});\n",
              "          if (!dataTable) return;\n",
              "\n",
              "          const docLinkHtml = 'Like what you see? Visit the ' +\n",
              "            '<a target=\"_blank\" href=https://colab.research.google.com/notebooks/data_table.ipynb>data table notebook</a>'\n",
              "            + ' to learn more about interactive tables.';\n",
              "          element.innerHTML = '';\n",
              "          dataTable['output_type'] = 'display_data';\n",
              "          await google.colab.output.renderOutput(dataTable, element);\n",
              "          const docLink = document.createElement('div');\n",
              "          docLink.innerHTML = docLinkHtml;\n",
              "          element.appendChild(docLink);\n",
              "        }\n",
              "      </script>\n",
              "    </div>\n",
              "  </div>\n",
              "  "
            ]
          },
          "metadata": {},
          "execution_count": 162
        }
      ]
    },
    {
      "cell_type": "markdown",
      "source": [
        "1. Are there any correlated features in the given dataset? If yes, state the correlation\n",
        "coefficient of the pair of features which are highly correlated. "
      ],
      "metadata": {
        "id": "p3FIfiAtLOZf"
      }
    },
    {
      "cell_type": "code",
      "source": [
        "#rank vs influence score\n",
        "from scipy.stats import pearsonr\n",
        "x=data[\"rank\"]\n",
        "y=data[\"influence_score\"]\n",
        "corr,t=pearsonr(x,y)\n",
        "if corr<0.05:\n",
        "    print(\"Independent feature\")\n",
        "else:\n",
        "    print(\"Dependent feature\")"
      ],
      "metadata": {
        "colab": {
          "base_uri": "https://localhost:8080/"
        },
        "id": "2TzTftFbjySf",
        "outputId": "64120a70-f66b-480b-95f4-0943ee3580a7"
      },
      "execution_count": null,
      "outputs": [
        {
          "output_type": "stream",
          "name": "stdout",
          "text": [
            "Independent feature\n"
          ]
        }
      ]
    },
    {
      "cell_type": "code",
      "source": [
        "#rank vs followers\n",
        "x=data[\"rank\"]\n",
        "y=data[\"Followers\"]\n",
        "corr,t=pearsonr(x,y)\n",
        "if corr<0.05:\n",
        "    print(\"Independent feature\")\n",
        "else:\n",
        "    print(\"Dependent feature\")"
      ],
      "metadata": {
        "colab": {
          "base_uri": "https://localhost:8080/"
        },
        "id": "FViVBXZBjyU9",
        "outputId": "a4bf887d-a70c-4e13-a946-75eef3ce06de"
      },
      "execution_count": null,
      "outputs": [
        {
          "output_type": "stream",
          "name": "stdout",
          "text": [
            "Independent feature\n"
          ]
        }
      ]
    },
    {
      "cell_type": "code",
      "source": [
        "#rank vs average likes\n",
        "x=data[\"rank\"]\n",
        "y=data[\"avg_likes\"]\n",
        "corr,t=pearsonr(x,y)\n",
        "if corr<0.05:\n",
        "    print(\"Independent feature\")\n",
        "else:\n",
        "    print(\"Dependent feature\")"
      ],
      "metadata": {
        "colab": {
          "base_uri": "https://localhost:8080/"
        },
        "id": "o_udUhlsjyYO",
        "outputId": "f9870904-033a-4b3a-bd52-ad0647c62b9c"
      },
      "execution_count": null,
      "outputs": [
        {
          "output_type": "stream",
          "name": "stdout",
          "text": [
            "Independent feature\n"
          ]
        }
      ]
    },
    {
      "cell_type": "code",
      "source": [
        "#rank vs posts\n",
        "x=data[\"rank\"]\n",
        "y=data[\"Posts\"]\n",
        "corr,t=pearsonr(x,y)\n",
        "if corr<0.05:\n",
        "    print(\"Independent feature\")\n",
        "else:\n",
        "    print(\"Dependent feature\")"
      ],
      "metadata": {
        "colab": {
          "base_uri": "https://localhost:8080/"
        },
        "id": "ak90h8y3jyaZ",
        "outputId": "f306444f-85a4-4963-d84f-0c9533798583"
      },
      "execution_count": null,
      "outputs": [
        {
          "output_type": "stream",
          "name": "stdout",
          "text": [
            "Independent feature\n"
          ]
        }
      ]
    },
    {
      "cell_type": "code",
      "source": [
        "#rank vs enangement rate\n",
        "x=data[\"rank\"]\n",
        "y=data[\"60dayeng_rate\"]\n",
        "corr,t=pearsonr(x,y)\n",
        "if corr<0.05:\n",
        "    print(\"Independent feature\")\n",
        "else:\n",
        "    print(\"Dependent feature\")"
      ],
      "metadata": {
        "colab": {
          "base_uri": "https://localhost:8080/"
        },
        "id": "Qp75oNQZjydc",
        "outputId": "3d9b694e-736b-49d6-dd73-704b8fb3d024"
      },
      "execution_count": null,
      "outputs": [
        {
          "output_type": "stream",
          "name": "stdout",
          "text": [
            "Independent feature\n"
          ]
        }
      ]
    },
    {
      "cell_type": "code",
      "source": [
        "#rank vs Total likes\n",
        "x=data[\"rank\"]\n",
        "y=data[\"total_likes\"]\n",
        "corr,t=pearsonr(x,y)\n",
        "if corr<0.05:\n",
        "    print(\"Independent feature\")\n",
        "else:\n",
        "    print(\"Dependent feature\")"
      ],
      "metadata": {
        "colab": {
          "base_uri": "https://localhost:8080/"
        },
        "id": "FOGYr3nkjyft",
        "outputId": "7fa8d402-83d3-4ee1-fb63-c3c1637ff564"
      },
      "execution_count": null,
      "outputs": [
        {
          "output_type": "stream",
          "name": "stdout",
          "text": [
            "Independent feature\n"
          ]
        }
      ]
    },
    {
      "cell_type": "code",
      "source": [
        "#rank vs New post\n",
        "x=data[\"rank\"]\n",
        "y=data[\"newpostavg_like\"]\n",
        "corr,t=pearsonr(x,y)\n",
        "if corr<0.05:\n",
        "    print(\"Independent feature\")\n",
        "else:\n",
        "    print(\"Dependent feature\")"
      ],
      "metadata": {
        "colab": {
          "base_uri": "https://localhost:8080/"
        },
        "id": "cSse_7RykmtK",
        "outputId": "8fe1fb03-3b76-49f9-c77b-95cef90b6848"
      },
      "execution_count": null,
      "outputs": [
        {
          "output_type": "stream",
          "name": "stdout",
          "text": [
            "Independent feature\n"
          ]
        }
      ]
    },
    {
      "cell_type": "code",
      "source": [
        "import scipy.stats as s\n",
        "import statsmodels.api as sm\n",
        "from statsmodels.formula.api import ols\n",
        "model = ols('rank ~ C(Country)',data=insta_influencers).fit()\n",
        "\n",
        "result = sm.stats.anova_lm(model, type=3)\n",
        "\n",
        "results=result[\"PR(>F)\"][0]\n",
        "\n",
        "if results<0.05:\n",
        "    print(\"Independent feature\")\n",
        "else:\n",
        "    print(\"Dependent feature\")\n"
      ],
      "metadata": {
        "colab": {
          "base_uri": "https://localhost:8080/"
        },
        "id": "AfVBzLjLkmu2",
        "outputId": "20cd8f7d-e6e6-41ab-f9ec-4f1ee1cf5293"
      },
      "execution_count": null,
      "outputs": [
        {
          "output_type": "stream",
          "name": "stdout",
          "text": [
            "Independent feature\n"
          ]
        }
      ]
    },
    {
      "cell_type": "markdown",
      "source": [
        "All necessary features are correlated and channel_info is not necessary for correlation...."
      ],
      "metadata": {
        "id": "WY-ivhN5ibFD"
      }
    },
    {
      "cell_type": "markdown",
      "source": [
        "2. What is the frequency distribution of the following features?\n",
        "\n",
        "    ○ Followers\n",
        "    ○ Posts\n",
        "    ○ Influence Score\n",
        "    \n",
        "    "
      ],
      "metadata": {
        "id": "Ah3MOSd6Lyx2"
      }
    },
    {
      "cell_type": "code",
      "source": [
        "plt.figure(figsize=(10,5))\n",
        "insta_influencers.groupby(\"Followers\").size().plot(kind=\"hist\")"
      ],
      "metadata": {
        "colab": {
          "base_uri": "https://localhost:8080/",
          "height": 338
        },
        "id": "nP5rdfEMkmzj",
        "outputId": "28976f87-2ca3-448b-b624-c37a5c06d8b3"
      },
      "execution_count": null,
      "outputs": [
        {
          "output_type": "execute_result",
          "data": {
            "text/plain": [
              "<matplotlib.axes._subplots.AxesSubplot at 0x7fb9e86775e0>"
            ]
          },
          "metadata": {},
          "execution_count": 171
        },
        {
          "output_type": "display_data",
          "data": {
            "text/plain": [
              "<Figure size 720x360 with 1 Axes>"
            ],
            "image/png": "[encoded data removed]"
          },
          "metadata": {
            "needs_background": "light"
          }
        }
      ]
    },
    {
      "cell_type": "code",
      "source": [
        "plt.figure(figsize=(10,5))\n",
        "insta_influencers.groupby(\"Posts\").size().plot(kind=\"hist\")"
      ],
      "metadata": {
        "colab": {
          "base_uri": "https://localhost:8080/",
          "height": 338
        },
        "id": "J0MKbXBJkm19",
        "outputId": "1942b1c3-ac41-4940-88d5-684927ac8021"
      },
      "execution_count": null,
      "outputs": [
        {
          "output_type": "execute_result",
          "data": {
            "text/plain": [
              "<matplotlib.axes._subplots.AxesSubplot at 0x7fb9f1fe6b20>"
            ]
          },
          "metadata": {},
          "execution_count": 172
        },
        {
          "output_type": "display_data",
          "data": {
            "text/plain": [
              "<Figure size 720x360 with 1 Axes>"
            ],
            "image/png": "[encoded data removed]"
          },
          "metadata": {
            "needs_background": "light"
          }
        }
      ]
    },
    {
      "cell_type": "code",
      "source": [
        "plt.figure(figsize=(10,5))\n",
        "insta_influencers.groupby(\"influence_score\").size().plot(kind=\"hist\")"
      ],
      "metadata": {
        "colab": {
          "base_uri": "https://localhost:8080/",
          "height": 338
        },
        "id": "PDLM2HRWjJ4N",
        "outputId": "716c4157-ed38-40b6-b15f-baf04bf56cb1"
      },
      "execution_count": null,
      "outputs": [
        {
          "output_type": "execute_result",
          "data": {
            "text/plain": [
              "<matplotlib.axes._subplots.AxesSubplot at 0x7fb9e4fc13a0>"
            ]
          },
          "metadata": {},
          "execution_count": 173
        },
        {
          "output_type": "display_data",
          "data": {
            "text/plain": [
              "<Figure size 720x360 with 1 Axes>"
            ],
            "image/png": "[encoded data removed]"
          },
          "metadata": {
            "needs_background": "light"
          }
        }
      ]
    },
    {
      "cell_type": "markdown",
      "source": [
        "3. Which country houses the highest number of Instagram Influencers? Please show the\n",
        "count of Instagram influencers in different countries using barchart."
      ],
      "metadata": {
        "id": "0EbknELCMOPt"
      }
    },
    {
      "cell_type": "code",
      "source": [
        "country=data[\"Country\"].value_counts()\n",
        "country.plot(kind=\"bar\")"
      ],
      "metadata": {
        "colab": {
          "base_uri": "https://localhost:8080/",
          "height": 380
        },
        "id": "w65YhOG8km5D",
        "outputId": "9f2786f4-1c86-444c-c20b-0d22da9b1d83"
      },
      "execution_count": null,
      "outputs": [
        {
          "output_type": "execute_result",
          "data": {
            "text/plain": [
              "<matplotlib.axes._subplots.AxesSubplot at 0x7fb9e4f395e0>"
            ]
          },
          "metadata": {},
          "execution_count": 174
        },
        {
          "output_type": "display_data",
          "data": {
            "text/plain": [
              "<Figure size 432x288 with 1 Axes>"
            ],
            "image/png": "[encoded data removed]"
          },
          "metadata": {
            "needs_background": "light"
          }
        }
      ]
    },
    {
      "cell_type": "markdown",
      "source": [
        "4. Who are the top 10 influencers in the given dataset based on the following features\n",
        "\n",
        "    ● Followers\n",
        "    ● Average likes\n",
        "    ● Total Likes"
      ],
      "metadata": {
        "id": "l-39MP2uMZUH"
      }
    },
    {
      "cell_type": "code",
      "source": [
        "country.head(10)\n"
      ],
      "metadata": {
        "colab": {
          "base_uri": "https://localhost:8080/"
        },
        "id": "tXzjLCm7knA2",
        "outputId": "1818576f-9ea8-4b77-c3cb-2d815bf82c14"
      },
      "execution_count": null,
      "outputs": [
        {
          "output_type": "execute_result",
          "data": {
            "text/plain": [
              "United States     65\n",
              "Other             63\n",
              "Brazil            13\n",
              "India             12\n",
              "Indonesia          7\n",
              "France             6\n",
              "Spain              5\n",
              "United Kingdom     4\n",
              "Colombia           3\n",
              "Canada             3\n",
              "Name: Country, dtype: int64"
            ]
          },
          "metadata": {},
          "execution_count": 175
        }
      ]
    },
    {
      "cell_type": "code",
      "source": [
        "data.sort_values([\"Followers\",\"avg_likes\",\"total_likes\"],ascending=False)[\"channel_info\"].head(10)"
      ],
      "metadata": {
        "colab": {
          "base_uri": "https://localhost:8080/"
        },
        "id": "zJ79N472F5N8",
        "outputId": "5555a688-3874-45ad-e20d-d2629d6a4820"
      },
      "execution_count": null,
      "outputs": [
        {
          "output_type": "execute_result",
          "data": {
            "text/plain": [
              "0          Cristiano\n",
              "1        Kyliejenner\n",
              "2           Leomessi\n",
              "3        Selenagomez\n",
              "4            Therock\n",
              "5       Arianagrande\n",
              "6      Kimkardashian\n",
              "7            Beyonce\n",
              "8    Khloekardashian\n",
              "9       Justinbieber\n",
              "Name: channel_info, dtype: object"
            ]
          },
          "metadata": {},
          "execution_count": 176
        }
      ]
    },
    {
      "cell_type": "markdown",
      "source": [
        "5. Describe the relationship between the following pairs of features using a suitable graph\n",
        "\n",
        "    ● Followers and Total Likes\n",
        "    ● Followers and Influence Score"
      ],
      "metadata": {
        "id": "0r1fEbnhMnWI"
      }
    },
    {
      "cell_type": "code",
      "source": [
        "x=data[\"Followers\"]\n",
        "y=data[\"total_likes\"]\n",
        "plt.scatter(x,y,c=\"orange\")\n",
        "plt.xlabel(\"Follower\")\n",
        "plt.ylabel(\"total_likes\")\n",
        "plt.show()\n",
        "\n"
      ],
      "metadata": {
        "colab": {
          "base_uri": "https://localhost:8080/",
          "height": 290
        },
        "id": "OTi0YsnJlgN4",
        "outputId": "1908e32a-d211-4810-cf03-d02088d7ce3a"
      },
      "execution_count": null,
      "outputs": [
        {
          "output_type": "display_data",
          "data": {
            "text/plain": [
              "<Figure size 432x288 with 1 Axes>"
            ],
            "image/png": "[encoded data removed]"
          },
          "metadata": {
            "needs_background": "light"
          }
        }
      ]
    },
    {
      "cell_type": "code",
      "source": [
        "x=data[\"Followers\"]\n",
        "y=data[\"influence_score\"]\n",
        "plt.scatter(x,y,c=\"purple\")\n",
        "plt.xlabel(\"Follower\")\n",
        "plt.ylabel(\"influencer_score\")\n",
        "plt.show()"
      ],
      "metadata": {
        "colab": {
          "base_uri": "https://localhost:8080/",
          "height": 279
        },
        "id": "9xmr7P3vlgPf",
        "outputId": "eb1b0014-41e6-486b-aded-5fdad1c8ee8c"
      },
      "execution_count": null,
      "outputs": [
        {
          "output_type": "display_data",
          "data": {
            "text/plain": [
              "<Figure size 432x288 with 1 Axes>"
            ],
            "image/png": "[encoded data removed]"
          },
          "metadata": {
            "needs_background": "light"
          }
        }
      ]
    },
    {
      "cell_type": "code",
      "source": [
        "x=data[\"Posts\"]\n",
        "y=data[\"avg_likes\"]\n",
        "plt.scatter(x,y,c=\"red\")\n",
        "plt.xlabel(\"Posts\")\n",
        "plt.ylabel(\"avg_likes\")\n",
        "plt.show()"
      ],
      "metadata": {
        "colab": {
          "base_uri": "https://localhost:8080/",
          "height": 290
        },
        "id": "AP_oHvkklgVC",
        "outputId": "d4fff1ee-fee3-4138-b782-c01ab337574d"
      },
      "execution_count": null,
      "outputs": [
        {
          "output_type": "display_data",
          "data": {
            "text/plain": [
              "<Figure size 432x288 with 1 Axes>"
            ],
            "image/png": "[encoded data removed]"
          },
          "metadata": {
            "needs_background": "light"
          }
        }
      ]
    },
    {
      "cell_type": "code",
      "source": [
        "x=data[\"Posts\"]\n",
        "y=data[\"influence_score\"]\n",
        "plt.scatter(x,y,c='green')\n",
        "plt.xlabel(\"Posts\")\n",
        "plt.ylabel(\"influencer_score\")\n",
        "plt.show()"
      ],
      "metadata": {
        "colab": {
          "base_uri": "https://localhost:8080/",
          "height": 279
        },
        "id": "iI-HgBtOlgWn",
        "outputId": "e263d95b-9221-4d78-fb09-8605a9af58e3"
      },
      "execution_count": null,
      "outputs": [
        {
          "output_type": "display_data",
          "data": {
            "text/plain": [
              "<Figure size 432x288 with 1 Axes>"
            ],
            "image/png": "[encoded data removed]"
          },
          "metadata": {
            "needs_background": "light"
          }
        }
      ]
    },
    {
      "cell_type": "markdown",
      "source": [
        "Summary :\n",
        "1. From the above data on Instagram Influencers, we can visualize that the users are more from US and followed by other countries.\n",
        "2. The prediction on rank is based on the content provided by the followers."
      ],
      "metadata": {
        "id": "1gjJ42NjkFpj"
      }
    }
  ]
}